{
 "cells": [
  {
   "cell_type": "markdown",
   "metadata": {},
   "source": [
    " # Training a GET Model for ATAC-seq Prediction\n",
    "\n",
    "\n",
    "\n",
    " This tutorial demonstrates how to train a GET model to predict ATAC-seq peaks using motif information. We'll cover:\n",
    "\n",
    " 1. Loading and configuring the model\n",
    "\n",
    " 2. Training without a pretrained checkpoint\n",
    "\n",
    " 3. Training with a pretrained checkpoint\n",
    "\n",
    " 4. Comparing the results\n",
    "\n",
    "\n",
    "\n",
    " ## Setup\n",
    "\n",
    " First, let's import the necessary modules and set up our configuration.\n",
    " \n",
    " Note:\n",
    " If you run from a Mac, make sure you use the jupyter notebook rather than the VSCode interactive python editor as the later seems to have issue with multiple workers.\n",
    " If you run from Linux, both should work fine."
   ]
  },
  {
   "cell_type": "code",
   "execution_count": 81,
   "metadata": {},
   "outputs": [],
   "source": [
    "#%%\n",
    "from get_model.config.config import load_config, pretty_print_config\n",
    "from get_model.run_region import run_zarr as run\n"
   ]
  },
  {
   "cell_type": "markdown",
   "metadata": {},
   "source": [
    " ## Configuration\n",
    "\n",
    "\n",
    "\n",
    " We'll start by loading a predefined configuration and customizing it for our needs.\n",
    "\n",
    " The base configuration is in `get_model/config/finetune_tutorial.yaml`"
   ]
  },
  {
   "cell_type": "code",
   "execution_count": 82,
   "metadata": {},
   "outputs": [],
   "source": [
    "#%%\n",
    "cfg = load_config('finetune_tutorial') # load the predefined finetune tutorial config\n",
    "cfg.run.run_name='predict_atac' # this is a unique name for this run\n",
    "cfg.dataset.zarr_path = \"./output.zarr\" # the tutorial data which contains astrocyte atac & rna\n",
    "cfg.dataset.celltypes = 'astrocyte' # the celltypes you want to finetune\n",
    "cfg.dataset.leave_out_chromosomes = 'chr10,chr11'\n",
    "cfg.run.use_wandb=True # this is a logging system, you can turn it off by setting it to False\n",
    "cfg.training.epochs = 5 # this is the number of epochs you want to train for\n",
    "cfg.training.val_check_interval = 1.0 # validation check every epochs; this is for mac because the evaluation step is slow on it somehow..."
   ]
  },
  {
   "cell_type": "markdown",
   "metadata": {},
   "source": [
    " ### Switch machine to mac\n",
    "\n",
    " One can define machine config in a yaml file, and load it here"
   ]
  },
  {
   "cell_type": "code",
   "execution_count": 13,
   "metadata": {},
   "outputs": [
    {
     "name": "stdout",
     "output_type": "stream",
     "text": [
      "run:\n",
      "  project_name: finetune_tutorial\n",
      "  run_name: predict_atac\n",
      "  use_wandb: true\n",
      "type: region\n",
      "stage: fit\n",
      "assembly: hg38\n",
      "eval_tss: true\n",
      "log_image: true\n",
      "model:\n",
      "  _target_: get_model.model.model.GETRegionFinetune\n",
      "  cfg:\n",
      "    num_regions: 900\n",
      "    num_motif: 283\n",
      "    embed_dim: 768\n",
      "    num_layers: 12\n",
      "    num_heads: 12\n",
      "    dropout: 0.1\n",
      "    output_dim: 2\n",
      "    flash_attn: false\n",
      "    pool_method: mean\n",
      "    region_embed:\n",
      "      num_regions: ${model.cfg.num_regions}\n",
      "      num_features: ${model.cfg.num_motif}\n",
      "      embed_dim: ${model.cfg.embed_dim}\n",
      "    encoder:\n",
      "      num_heads: ${model.cfg.num_heads}\n",
      "      embed_dim: ${model.cfg.embed_dim}\n",
      "      num_layers: ${model.cfg.num_layers}\n",
      "      drop_path_rate: ${model.cfg.dropout}\n",
      "      drop_rate: 0\n",
      "      attn_drop_rate: 0\n",
      "      use_mean_pooling: false\n",
      "      flash_attn: ${model.cfg.flash_attn}\n",
      "    head_exp:\n",
      "      embed_dim: ${model.cfg.embed_dim}\n",
      "      output_dim: ${model.cfg.output_dim}\n",
      "      use_atac: false\n",
      "    mask_token:\n",
      "      embed_dim: ${model.cfg.embed_dim}\n",
      "      std: 0.02\n",
      "    loss:\n",
      "      components:\n",
      "        exp:\n",
      "          _target_: torch.nn.PoissonNLLLoss\n",
      "          reduction: mean\n",
      "          log_input: false\n",
      "      weights:\n",
      "        exp: 1.0\n",
      "    metrics:\n",
      "      components:\n",
      "        exp:\n",
      "        - pearson\n",
      "        - spearman\n",
      "        - r2\n",
      "machine:\n",
      "  codebase: /Users/xf2217/Repos/get_model/\n",
      "  data_path: /Users/xf2217/Repos/get_model/\n",
      "  output_dir: /Users/xf2217/Downloads\n",
      "  num_devices: 1\n",
      "  num_workers: 4\n",
      "  batch_size: 2\n",
      "  fasta_path: ???\n",
      "dataset:\n",
      "  zarr_path: ./output.zarr\n",
      "  celltypes: astrocyte\n",
      "  transform: null\n",
      "  quantitative_atac: true\n",
      "  sampling_step: 100\n",
      "  num_region_per_sample: 200\n",
      "  leave_out_chromosomes: chr10,chr11\n",
      "  leave_out_celltypes: null\n",
      "  mask_ratio: 0.0\n",
      "training:\n",
      "  save_ckpt_freq: 1\n",
      "  epochs: 5\n",
      "  warmup_epochs: 1\n",
      "  accumulate_grad_batches: 1\n",
      "  clip_grad: null\n",
      "  use_fp16: false\n",
      "  log_every_n_steps: 25\n",
      "  val_check_interval: 1.0\n",
      "  add_lr_monitor: false\n",
      "optimizer:\n",
      "  lr: 0.0001\n",
      "  min_lr: 0.0001\n",
      "  weight_decay: 0.05\n",
      "  opt: adamw\n",
      "  opt_eps: 1.0e-08\n",
      "  opt_betas:\n",
      "  - 0.9\n",
      "  - 0.999\n",
      "finetune:\n",
      "  resume_ckpt: null\n",
      "  pretrain_checkpoint: false\n",
      "  checkpoint: /home/xf2217/Projects/get_checkpoints/Astrocytes/checkpoint-best.pth\n",
      "  strict: true\n",
      "  model_key: model\n",
      "  use_lora: false\n",
      "  lora_checkpoint: null\n",
      "  rename_config:\n",
      "    blocks.: encoder.blocks.\n",
      "    fc_norm.: encoder.norm.\n",
      "    encoder.head.: head_mask.\n",
      "    encoder.region_embed: region_embed\n",
      "    region_embed.proj.: region_embed.embed.\n",
      "    encoder.cls_token: cls_token\n",
      "    head.: head_exp.head.\n",
      "  layers_with_lora:\n",
      "  - region_embed\n",
      "  - encoder\n",
      "  - head_exp\n",
      "  patterns_to_freeze: []\n",
      "  patterns_to_drop: []\n",
      "  additional_checkpoints: []\n",
      "task:\n",
      "  test_mode: interpret\n",
      "  gene_list: MYC,SOX10,SOX2,RET\n",
      "  layer_names:\n",
      "  - region_embed\n",
      "  mutations: null\n",
      "\n"
     ]
    }
   ],
   "source": [
    "# %%\n",
    "from get_model.config.config import MachineConfig\n",
    "\n",
    "cfg.machine = MachineConfig(**load_config('machine/mac').machine)\n",
    "# Note that you can also create a new yaml file replacing the finetune_tutorial.yaml\n",
    "# or change parameters here directly\n",
    "cfg.machine.batch_size = 2\n",
    "pretty_print_config(cfg)"
   ]
  },
  {
   "cell_type": "markdown",
   "metadata": {},
   "source": [
    " ### Model Selection\n",
    "\n",
    "\n",
    "\n",
    " We'll use the GETRegionFinetuneATAC model, which is designed to use motif information to predict the ATAC values\n",
    "\n",
    "\n",
    "\n",
    " This model is particularly useful for understanding the relationship between motifs and chromatin accessibility."
   ]
  },
  {
   "cell_type": "code",
   "execution_count": 14,
   "metadata": {},
   "outputs": [],
   "source": [
    "#%%\n",
    "# Switch model to finetune ATAC model\n",
    "cfg.model = load_config('model/GETRegionFinetuneATAC').model.model"
   ]
  },
  {
   "cell_type": "markdown",
   "metadata": {},
   "source": [
    " ## Training Without Pretraining\n",
    "\n",
    "\n",
    "\n",
    " First, let's train the model from scratch (without using a pretrained checkpoint).\n",
    "\n",
    " This will give us a baseline for comparison."
   ]
  },
  {
   "cell_type": "code",
   "execution_count": 5,
   "metadata": {},
   "outputs": [
    {
     "name": "stderr",
     "output_type": "stream",
     "text": [
      "/Users/xf2217/Softwares/.micromamba/envs/get/lib/python3.10/site-packages/torchmetrics/utilities/prints.py:43: UserWarning: Metric `SpearmanCorrcoef` will save all targets and predictions in the buffer. For large datasets, this may lead to large memory footprint.\n",
      "  warnings.warn(*args, **kwargs)  # noqa: B028\n",
      "\u001b[34m\u001b[1mwandb\u001b[0m: Using wandb-core as the SDK backend.  Please refer to https://wandb.me/wandb-core for more information.\n"
     ]
    },
    {
     "name": "stdout",
     "output_type": "stream",
     "text": [
      "Model = GETRegionFinetuneATAC(\n",
      "  (loss): GETLoss()\n",
      "  (metrics): RegressionMetrics(\n",
      "    (metrics): ModuleDict(\n",
      "      (atpm): ModuleDict(\n",
      "        (pearson): PearsonCorrCoef()\n",
      "        (spearman): SpearmanCorrCoef()\n",
      "        (r2): R2Score()\n",
      "      )\n",
      "    )\n",
      "  )\n",
      "  (region_embed): RegionEmbed(\n",
      "    (embed): Linear(in_features=283, out_features=768, bias=True)\n",
      "  )\n",
      "  (encoder): GETTransformer(\n",
      "    (blocks): ModuleList(\n",
      "      (0): Block(\n",
      "        (norm1): LayerNorm((768,), eps=1e-06, elementwise_affine=True)\n",
      "        (attn): Attention(\n",
      "          (qkv): Linear(in_features=768, out_features=2304, bias=False)\n",
      "          (attn_drop): Dropout(p=0, inplace=False)\n",
      "          (proj): Linear(in_features=768, out_features=768, bias=True)\n",
      "          (proj_drop): Dropout(p=0, inplace=False)\n",
      "        )\n",
      "        (drop_path): Identity()\n",
      "        (norm2): LayerNorm((768,), eps=1e-06, elementwise_affine=True)\n",
      "        (mlp): Mlp(\n",
      "          (fc1): Linear(in_features=768, out_features=3072, bias=True)\n",
      "          (act): GELU(approximate='none')\n",
      "          (fc2): Linear(in_features=3072, out_features=768, bias=True)\n",
      "          (drop1): Dropout(p=0, inplace=False)\n",
      "          (drop2): Dropout(p=0, inplace=False)\n",
      "        )\n",
      "      )\n",
      "      (1): Block(\n",
      "        (norm1): LayerNorm((768,), eps=1e-06, elementwise_affine=True)\n",
      "        (attn): Attention(\n",
      "          (qkv): Linear(in_features=768, out_features=2304, bias=False)\n",
      "          (attn_drop): Dropout(p=0, inplace=False)\n",
      "          (proj): Linear(in_features=768, out_features=768, bias=True)\n",
      "          (proj_drop): Dropout(p=0, inplace=False)\n",
      "        )\n",
      "        (drop_path): DropPath(drop_prob=0.009)\n",
      "        (norm2): LayerNorm((768,), eps=1e-06, elementwise_affine=True)\n",
      "        (mlp): Mlp(\n",
      "          (fc1): Linear(in_features=768, out_features=3072, bias=True)\n",
      "          (act): GELU(approximate='none')\n",
      "          (fc2): Linear(in_features=3072, out_features=768, bias=True)\n",
      "          (drop1): Dropout(p=0, inplace=False)\n",
      "          (drop2): Dropout(p=0, inplace=False)\n",
      "        )\n",
      "      )\n",
      "      (2): Block(\n",
      "        (norm1): LayerNorm((768,), eps=1e-06, elementwise_affine=True)\n",
      "        (attn): Attention(\n",
      "          (qkv): Linear(in_features=768, out_features=2304, bias=False)\n",
      "          (attn_drop): Dropout(p=0, inplace=False)\n",
      "          (proj): Linear(in_features=768, out_features=768, bias=True)\n",
      "          (proj_drop): Dropout(p=0, inplace=False)\n",
      "        )\n",
      "        (drop_path): DropPath(drop_prob=0.018)\n",
      "        (norm2): LayerNorm((768,), eps=1e-06, elementwise_affine=True)\n",
      "        (mlp): Mlp(\n",
      "          (fc1): Linear(in_features=768, out_features=3072, bias=True)\n",
      "          (act): GELU(approximate='none')\n",
      "          (fc2): Linear(in_features=3072, out_features=768, bias=True)\n",
      "          (drop1): Dropout(p=0, inplace=False)\n",
      "          (drop2): Dropout(p=0, inplace=False)\n",
      "        )\n",
      "      )\n",
      "      (3): Block(\n",
      "        (norm1): LayerNorm((768,), eps=1e-06, elementwise_affine=True)\n",
      "        (attn): Attention(\n",
      "          (qkv): Linear(in_features=768, out_features=2304, bias=False)\n",
      "          (attn_drop): Dropout(p=0, inplace=False)\n",
      "          (proj): Linear(in_features=768, out_features=768, bias=True)\n",
      "          (proj_drop): Dropout(p=0, inplace=False)\n",
      "        )\n",
      "        (drop_path): DropPath(drop_prob=0.027)\n",
      "        (norm2): LayerNorm((768,), eps=1e-06, elementwise_affine=True)\n",
      "        (mlp): Mlp(\n",
      "          (fc1): Linear(in_features=768, out_features=3072, bias=True)\n",
      "          (act): GELU(approximate='none')\n",
      "          (fc2): Linear(in_features=3072, out_features=768, bias=True)\n",
      "          (drop1): Dropout(p=0, inplace=False)\n",
      "          (drop2): Dropout(p=0, inplace=False)\n",
      "        )\n",
      "      )\n",
      "      (4): Block(\n",
      "        (norm1): LayerNorm((768,), eps=1e-06, elementwise_affine=True)\n",
      "        (attn): Attention(\n",
      "          (qkv): Linear(in_features=768, out_features=2304, bias=False)\n",
      "          (attn_drop): Dropout(p=0, inplace=False)\n",
      "          (proj): Linear(in_features=768, out_features=768, bias=True)\n",
      "          (proj_drop): Dropout(p=0, inplace=False)\n",
      "        )\n",
      "        (drop_path): DropPath(drop_prob=0.036)\n",
      "        (norm2): LayerNorm((768,), eps=1e-06, elementwise_affine=True)\n",
      "        (mlp): Mlp(\n",
      "          (fc1): Linear(in_features=768, out_features=3072, bias=True)\n",
      "          (act): GELU(approximate='none')\n",
      "          (fc2): Linear(in_features=3072, out_features=768, bias=True)\n",
      "          (drop1): Dropout(p=0, inplace=False)\n",
      "          (drop2): Dropout(p=0, inplace=False)\n",
      "        )\n",
      "      )\n",
      "      (5): Block(\n",
      "        (norm1): LayerNorm((768,), eps=1e-06, elementwise_affine=True)\n",
      "        (attn): Attention(\n",
      "          (qkv): Linear(in_features=768, out_features=2304, bias=False)\n",
      "          (attn_drop): Dropout(p=0, inplace=False)\n",
      "          (proj): Linear(in_features=768, out_features=768, bias=True)\n",
      "          (proj_drop): Dropout(p=0, inplace=False)\n",
      "        )\n",
      "        (drop_path): DropPath(drop_prob=0.045)\n",
      "        (norm2): LayerNorm((768,), eps=1e-06, elementwise_affine=True)\n",
      "        (mlp): Mlp(\n",
      "          (fc1): Linear(in_features=768, out_features=3072, bias=True)\n",
      "          (act): GELU(approximate='none')\n",
      "          (fc2): Linear(in_features=3072, out_features=768, bias=True)\n",
      "          (drop1): Dropout(p=0, inplace=False)\n",
      "          (drop2): Dropout(p=0, inplace=False)\n",
      "        )\n",
      "      )\n",
      "      (6): Block(\n",
      "        (norm1): LayerNorm((768,), eps=1e-06, elementwise_affine=True)\n",
      "        (attn): Attention(\n",
      "          (qkv): Linear(in_features=768, out_features=2304, bias=False)\n",
      "          (attn_drop): Dropout(p=0, inplace=False)\n",
      "          (proj): Linear(in_features=768, out_features=768, bias=True)\n",
      "          (proj_drop): Dropout(p=0, inplace=False)\n",
      "        )\n",
      "        (drop_path): DropPath(drop_prob=0.055)\n",
      "        (norm2): LayerNorm((768,), eps=1e-06, elementwise_affine=True)\n",
      "        (mlp): Mlp(\n",
      "          (fc1): Linear(in_features=768, out_features=3072, bias=True)\n",
      "          (act): GELU(approximate='none')\n",
      "          (fc2): Linear(in_features=3072, out_features=768, bias=True)\n",
      "          (drop1): Dropout(p=0, inplace=False)\n",
      "          (drop2): Dropout(p=0, inplace=False)\n",
      "        )\n",
      "      )\n",
      "      (7): Block(\n",
      "        (norm1): LayerNorm((768,), eps=1e-06, elementwise_affine=True)\n",
      "        (attn): Attention(\n",
      "          (qkv): Linear(in_features=768, out_features=2304, bias=False)\n",
      "          (attn_drop): Dropout(p=0, inplace=False)\n",
      "          (proj): Linear(in_features=768, out_features=768, bias=True)\n",
      "          (proj_drop): Dropout(p=0, inplace=False)\n",
      "        )\n",
      "        (drop_path): DropPath(drop_prob=0.064)\n",
      "        (norm2): LayerNorm((768,), eps=1e-06, elementwise_affine=True)\n",
      "        (mlp): Mlp(\n",
      "          (fc1): Linear(in_features=768, out_features=3072, bias=True)\n",
      "          (act): GELU(approximate='none')\n",
      "          (fc2): Linear(in_features=3072, out_features=768, bias=True)\n",
      "          (drop1): Dropout(p=0, inplace=False)\n",
      "          (drop2): Dropout(p=0, inplace=False)\n",
      "        )\n",
      "      )\n",
      "      (8): Block(\n",
      "        (norm1): LayerNorm((768,), eps=1e-06, elementwise_affine=True)\n",
      "        (attn): Attention(\n",
      "          (qkv): Linear(in_features=768, out_features=2304, bias=False)\n",
      "          (attn_drop): Dropout(p=0, inplace=False)\n",
      "          (proj): Linear(in_features=768, out_features=768, bias=True)\n",
      "          (proj_drop): Dropout(p=0, inplace=False)\n",
      "        )\n",
      "        (drop_path): DropPath(drop_prob=0.073)\n",
      "        (norm2): LayerNorm((768,), eps=1e-06, elementwise_affine=True)\n",
      "        (mlp): Mlp(\n",
      "          (fc1): Linear(in_features=768, out_features=3072, bias=True)\n",
      "          (act): GELU(approximate='none')\n",
      "          (fc2): Linear(in_features=3072, out_features=768, bias=True)\n",
      "          (drop1): Dropout(p=0, inplace=False)\n",
      "          (drop2): Dropout(p=0, inplace=False)\n",
      "        )\n",
      "      )\n",
      "      (9): Block(\n",
      "        (norm1): LayerNorm((768,), eps=1e-06, elementwise_affine=True)\n",
      "        (attn): Attention(\n",
      "          (qkv): Linear(in_features=768, out_features=2304, bias=False)\n",
      "          (attn_drop): Dropout(p=0, inplace=False)\n",
      "          (proj): Linear(in_features=768, out_features=768, bias=True)\n",
      "          (proj_drop): Dropout(p=0, inplace=False)\n",
      "        )\n",
      "        (drop_path): DropPath(drop_prob=0.082)\n",
      "        (norm2): LayerNorm((768,), eps=1e-06, elementwise_affine=True)\n",
      "        (mlp): Mlp(\n",
      "          (fc1): Linear(in_features=768, out_features=3072, bias=True)\n",
      "          (act): GELU(approximate='none')\n",
      "          (fc2): Linear(in_features=3072, out_features=768, bias=True)\n",
      "          (drop1): Dropout(p=0, inplace=False)\n",
      "          (drop2): Dropout(p=0, inplace=False)\n",
      "        )\n",
      "      )\n",
      "      (10): Block(\n",
      "        (norm1): LayerNorm((768,), eps=1e-06, elementwise_affine=True)\n",
      "        (attn): Attention(\n",
      "          (qkv): Linear(in_features=768, out_features=2304, bias=False)\n",
      "          (attn_drop): Dropout(p=0, inplace=False)\n",
      "          (proj): Linear(in_features=768, out_features=768, bias=True)\n",
      "          (proj_drop): Dropout(p=0, inplace=False)\n",
      "        )\n",
      "        (drop_path): DropPath(drop_prob=0.091)\n",
      "        (norm2): LayerNorm((768,), eps=1e-06, elementwise_affine=True)\n",
      "        (mlp): Mlp(\n",
      "          (fc1): Linear(in_features=768, out_features=3072, bias=True)\n",
      "          (act): GELU(approximate='none')\n",
      "          (fc2): Linear(in_features=3072, out_features=768, bias=True)\n",
      "          (drop1): Dropout(p=0, inplace=False)\n",
      "          (drop2): Dropout(p=0, inplace=False)\n",
      "        )\n",
      "      )\n",
      "      (11): Block(\n",
      "        (norm1): LayerNorm((768,), eps=1e-06, elementwise_affine=True)\n",
      "        (attn): Attention(\n",
      "          (qkv): Linear(in_features=768, out_features=2304, bias=False)\n",
      "          (attn_drop): Dropout(p=0, inplace=False)\n",
      "          (proj): Linear(in_features=768, out_features=768, bias=True)\n",
      "          (proj_drop): Dropout(p=0, inplace=False)\n",
      "        )\n",
      "        (drop_path): DropPath(drop_prob=0.100)\n",
      "        (norm2): LayerNorm((768,), eps=1e-06, elementwise_affine=True)\n",
      "        (mlp): Mlp(\n",
      "          (fc1): Linear(in_features=768, out_features=3072, bias=True)\n",
      "          (act): GELU(approximate='none')\n",
      "          (fc2): Linear(in_features=3072, out_features=768, bias=True)\n",
      "          (drop1): Dropout(p=0, inplace=False)\n",
      "          (drop2): Dropout(p=0, inplace=False)\n",
      "        )\n",
      "      )\n",
      "    )\n",
      "    (norm): LayerNorm((768,), eps=1e-06, elementwise_affine=True)\n",
      "  )\n",
      "  (head_exp): ExpressionHead(\n",
      "    (head): Linear(in_features=768, out_features=1, bias=True)\n",
      "  )\n",
      ")\n",
      "run:\n",
      "  project_name: finetune_tutorial\n",
      "  run_name: predict_atac\n",
      "  use_wandb: true\n",
      "type: region\n",
      "stage: fit\n",
      "assembly: hg38\n",
      "eval_tss: true\n",
      "log_image: true\n",
      "model:\n",
      "  _target_: get_model.model.model.GETRegionFinetuneATAC\n",
      "  cfg:\n",
      "    num_regions: 200\n",
      "    num_motif: 283\n",
      "    embed_dim: 768\n",
      "    num_layers: 12\n",
      "    num_heads: 12\n",
      "    dropout: 0.1\n",
      "    output_dim: 1\n",
      "    flash_attn: false\n",
      "    pool_method: mean\n",
      "    region_embed:\n",
      "      num_regions: ${model.cfg.num_regions}\n",
      "      num_features: ${model.cfg.num_motif}\n",
      "      embed_dim: ${model.cfg.embed_dim}\n",
      "    encoder:\n",
      "      num_heads: ${model.cfg.num_heads}\n",
      "      embed_dim: ${model.cfg.embed_dim}\n",
      "      num_layers: ${model.cfg.num_layers}\n",
      "      drop_path_rate: ${model.cfg.dropout}\n",
      "      drop_rate: 0\n",
      "      attn_drop_rate: 0\n",
      "      use_mean_pooling: false\n",
      "      flash_attn: ${model.cfg.flash_attn}\n",
      "    head_exp:\n",
      "      embed_dim: ${model.cfg.embed_dim}\n",
      "      output_dim: 1\n",
      "      use_atac: false\n",
      "    mask_token:\n",
      "      embed_dim: ${model.cfg.embed_dim}\n",
      "      std: 0.02\n",
      "    loss:\n",
      "      components:\n",
      "        atpm:\n",
      "          _target_: torch.nn.PoissonNLLLoss\n",
      "          reduction: mean\n",
      "          log_input: false\n",
      "      weights:\n",
      "        atpm: 1.0\n",
      "    metrics:\n",
      "      components:\n",
      "        atpm:\n",
      "        - pearson\n",
      "        - spearman\n",
      "        - r2\n",
      "machine:\n",
      "  codebase: /Users/xf2217/Repos/get_model/\n",
      "  data_path: /Users/xf2217/Repos/get_model/\n",
      "  output_dir: /Users/xf2217/Downloads\n",
      "  num_devices: 1\n",
      "  num_workers: 4\n",
      "  batch_size: 2\n",
      "  fasta_path: ???\n",
      "dataset:\n",
      "  zarr_path: ./output.zarr\n",
      "  celltypes: astrocyte\n",
      "  transform: null\n",
      "  quantitative_atac: true\n",
      "  sampling_step: 100\n",
      "  num_region_per_sample: 200\n",
      "  leave_out_chromosomes: chr10,chr11\n",
      "  leave_out_celltypes: null\n",
      "  mask_ratio: 0.0\n",
      "training:\n",
      "  save_ckpt_freq: 1\n",
      "  epochs: 5\n",
      "  warmup_epochs: 1\n",
      "  accumulate_grad_batches: 1\n",
      "  clip_grad: null\n",
      "  use_fp16: false\n",
      "  log_every_n_steps: 25\n",
      "  val_check_interval: 1.0\n",
      "  add_lr_monitor: false\n",
      "optimizer:\n",
      "  lr: 0.0001\n",
      "  min_lr: 0.0001\n",
      "  weight_decay: 0.05\n",
      "  opt: adamw\n",
      "  opt_eps: 1.0e-08\n",
      "  opt_betas:\n",
      "  - 0.9\n",
      "  - 0.999\n",
      "finetune:\n",
      "  resume_ckpt: null\n",
      "  pretrain_checkpoint: false\n",
      "  checkpoint: null\n",
      "  strict: true\n",
      "  model_key: model\n",
      "  use_lora: false\n",
      "  lora_checkpoint: null\n",
      "  rename_config:\n",
      "    blocks.: encoder.blocks.\n",
      "    fc_norm.: encoder.norm.\n",
      "    encoder.head.: head_mask.\n",
      "    encoder.region_embed: region_embed\n",
      "    region_embed.proj.: region_embed.embed.\n",
      "    encoder.cls_token: cls_token\n",
      "    head.: head_exp.head.\n",
      "  layers_with_lora:\n",
      "  - region_embed\n",
      "  - encoder\n",
      "  - head_exp\n",
      "  patterns_to_freeze: []\n",
      "  patterns_to_drop: []\n",
      "  additional_checkpoints: []\n",
      "task:\n",
      "  test_mode: interpret\n",
      "  gene_list: MYC,SOX10,SOX2,RET\n",
      "  layer_names:\n",
      "  - region_embed\n",
      "  mutations: null\n",
      "\n"
     ]
    },
    {
     "name": "stderr",
     "output_type": "stream",
     "text": [
      "\u001b[34m\u001b[1mwandb\u001b[0m: Currently logged in as: \u001b[33mxf2217\u001b[0m (\u001b[33mget-v3\u001b[0m). Use \u001b[1m`wandb login --relogin`\u001b[0m to force relogin\n"
     ]
    },
    {
     "data": {
      "text/html": [
       "Tracking run with wandb version 0.19.1"
      ],
      "text/plain": [
       "<IPython.core.display.HTML object>"
      ]
     },
     "metadata": {},
     "output_type": "display_data"
    },
    {
     "data": {
      "text/html": [
       "Run data is saved locally in <code>/Users/xf2217/Downloads/finetune_tutorial/predict_atac/wandb/run-20250102_231256-bvk25s3s</code>"
      ],
      "text/plain": [
       "<IPython.core.display.HTML object>"
      ]
     },
     "metadata": {},
     "output_type": "display_data"
    },
    {
     "data": {
      "text/html": [
       "Syncing run <strong><a href='https://wandb.ai/get-v3/finetune_tutorial/runs/bvk25s3s' target=\"_blank\">predict_atac</a></strong> to <a href='https://wandb.ai/get-v3/finetune_tutorial' target=\"_blank\">Weights & Biases</a> (<a href='https://wandb.me/developer-guide' target=\"_blank\">docs</a>)<br>"
      ],
      "text/plain": [
       "<IPython.core.display.HTML object>"
      ]
     },
     "metadata": {},
     "output_type": "display_data"
    },
    {
     "data": {
      "text/html": [
       " View project at <a href='https://wandb.ai/get-v3/finetune_tutorial' target=\"_blank\">https://wandb.ai/get-v3/finetune_tutorial</a>"
      ],
      "text/plain": [
       "<IPython.core.display.HTML object>"
      ]
     },
     "metadata": {},
     "output_type": "display_data"
    },
    {
     "data": {
      "text/html": [
       " View run at <a href='https://wandb.ai/get-v3/finetune_tutorial/runs/bvk25s3s' target=\"_blank\">https://wandb.ai/get-v3/finetune_tutorial/runs/bvk25s3s</a>"
      ],
      "text/plain": [
       "<IPython.core.display.HTML object>"
      ]
     },
     "metadata": {},
     "output_type": "display_data"
    },
    {
     "name": "stderr",
     "output_type": "stream",
     "text": [
      "100%|██████████| 1/1 [00:00<00:00,  9.83it/s]\n"
     ]
    },
    {
     "name": "stdout",
     "output_type": "stream",
     "text": [
      "Leave out chromosomes: ['chr10', 'chr11']\n",
      "Input chromosomes: ['chr1', 'chr2', 'chr3', 'chr4', 'chr4_GL000008v2_random', 'chr5', 'chr6', 'chr7', 'chr7_KI270803v1_alt', 'chr8', 'chr9', 'chr12', 'chr13', 'chr14', 'chr15', 'chr16', 'chr17', 'chr18', 'chr19', 'chr20', 'chr21', 'chr22', 'chr22_KI270879v1_alt', 'chrX']\n"
     ]
    },
    {
     "name": "stderr",
     "output_type": "stream",
     "text": [
      "100%|██████████| 1/1 [00:00<00:00, 71.13it/s]\n",
      "/Users/xf2217/Softwares/.micromamba/envs/get/lib/python3.10/site-packages/lightning/pytorch/callbacks/model_checkpoint.py:654: Checkpoint directory /Users/xf2217/Downloads/finetune_tutorial/predict_atac/checkpoints exists and is not empty.\n"
     ]
    },
    {
     "name": "stdout",
     "output_type": "stream",
     "text": [
      "Leave out chromosomes: ['chr10', 'chr11']\n",
      "Input chromosomes: ['chr10', 'chr11']\n",
      "Assigned values = [0.023757264018058777, 0.03167635202407837, 0.04223513603210449, 0.056313514709472656, 0.07508468627929688, 0.1001129150390625, 0.13348388671875, 0.177978515625, 0.2373046875, 0.31640625, 0.421875, 0.5625, 0.75, 1.0]\n",
      "Skip weight decay list:  {'cls_token', 'pos_embed'}\n",
      "Param groups = {\n",
      "  \"layer_0_no_decay\": {\n",
      "    \"weight_decay\": 0.0,\n",
      "    \"params\": [\n",
      "      \"cls_token\",\n",
      "      \"region_embed.embed.bias\"\n",
      "    ],\n",
      "    \"lr_scale\": 0.023757264018058777\n",
      "  },\n",
      "  \"layer_0_decay\": {\n",
      "    \"weight_decay\": 0.05,\n",
      "    \"params\": [\n",
      "      \"region_embed.embed.weight\"\n",
      "    ],\n",
      "    \"lr_scale\": 0.023757264018058777\n",
      "  },\n",
      "  \"layer_1_no_decay\": {\n",
      "    \"weight_decay\": 0.0,\n",
      "    \"params\": [\n",
      "      \"encoder.blocks.0.norm1.weight\",\n",
      "      \"encoder.blocks.0.norm1.bias\",\n",
      "      \"encoder.blocks.0.attn.q_bias\",\n",
      "      \"encoder.blocks.0.attn.v_bias\",\n",
      "      \"encoder.blocks.0.attn.proj.bias\",\n",
      "      \"encoder.blocks.0.norm2.weight\",\n",
      "      \"encoder.blocks.0.norm2.bias\",\n",
      "      \"encoder.blocks.0.mlp.fc1.bias\",\n",
      "      \"encoder.blocks.0.mlp.fc2.bias\"\n",
      "    ],\n",
      "    \"lr_scale\": 0.03167635202407837\n",
      "  },\n",
      "  \"layer_1_decay\": {\n",
      "    \"weight_decay\": 0.05,\n",
      "    \"params\": [\n",
      "      \"encoder.blocks.0.attn.qkv.weight\",\n",
      "      \"encoder.blocks.0.attn.proj.weight\",\n",
      "      \"encoder.blocks.0.mlp.fc1.weight\",\n",
      "      \"encoder.blocks.0.mlp.fc2.weight\"\n",
      "    ],\n",
      "    \"lr_scale\": 0.03167635202407837\n",
      "  },\n",
      "  \"layer_2_no_decay\": {\n",
      "    \"weight_decay\": 0.0,\n",
      "    \"params\": [\n",
      "      \"encoder.blocks.1.norm1.weight\",\n",
      "      \"encoder.blocks.1.norm1.bias\",\n",
      "      \"encoder.blocks.1.attn.q_bias\",\n",
      "      \"encoder.blocks.1.attn.v_bias\",\n",
      "      \"encoder.blocks.1.attn.proj.bias\",\n",
      "      \"encoder.blocks.1.norm2.weight\",\n",
      "      \"encoder.blocks.1.norm2.bias\",\n",
      "      \"encoder.blocks.1.mlp.fc1.bias\",\n",
      "      \"encoder.blocks.1.mlp.fc2.bias\"\n",
      "    ],\n",
      "    \"lr_scale\": 0.04223513603210449\n",
      "  },\n",
      "  \"layer_2_decay\": {\n",
      "    \"weight_decay\": 0.05,\n",
      "    \"params\": [\n",
      "      \"encoder.blocks.1.attn.qkv.weight\",\n",
      "      \"encoder.blocks.1.attn.proj.weight\",\n",
      "      \"encoder.blocks.1.mlp.fc1.weight\",\n",
      "      \"encoder.blocks.1.mlp.fc2.weight\"\n",
      "    ],\n",
      "    \"lr_scale\": 0.04223513603210449\n",
      "  },\n",
      "  \"layer_3_no_decay\": {\n",
      "    \"weight_decay\": 0.0,\n",
      "    \"params\": [\n",
      "      \"encoder.blocks.2.norm1.weight\",\n",
      "      \"encoder.blocks.2.norm1.bias\",\n",
      "      \"encoder.blocks.2.attn.q_bias\",\n",
      "      \"encoder.blocks.2.attn.v_bias\",\n",
      "      \"encoder.blocks.2.attn.proj.bias\",\n",
      "      \"encoder.blocks.2.norm2.weight\",\n",
      "      \"encoder.blocks.2.norm2.bias\",\n",
      "      \"encoder.blocks.2.mlp.fc1.bias\",\n",
      "      \"encoder.blocks.2.mlp.fc2.bias\"\n",
      "    ],\n",
      "    \"lr_scale\": 0.056313514709472656\n",
      "  },\n",
      "  \"layer_3_decay\": {\n",
      "    \"weight_decay\": 0.05,\n",
      "    \"params\": [\n",
      "      \"encoder.blocks.2.attn.qkv.weight\",\n",
      "      \"encoder.blocks.2.attn.proj.weight\",\n",
      "      \"encoder.blocks.2.mlp.fc1.weight\",\n",
      "      \"encoder.blocks.2.mlp.fc2.weight\"\n",
      "    ],\n",
      "    \"lr_scale\": 0.056313514709472656\n",
      "  },\n",
      "  \"layer_4_no_decay\": {\n",
      "    \"weight_decay\": 0.0,\n",
      "    \"params\": [\n",
      "      \"encoder.blocks.3.norm1.weight\",\n",
      "      \"encoder.blocks.3.norm1.bias\",\n",
      "      \"encoder.blocks.3.attn.q_bias\",\n",
      "      \"encoder.blocks.3.attn.v_bias\",\n",
      "      \"encoder.blocks.3.attn.proj.bias\",\n",
      "      \"encoder.blocks.3.norm2.weight\",\n",
      "      \"encoder.blocks.3.norm2.bias\",\n",
      "      \"encoder.blocks.3.mlp.fc1.bias\",\n",
      "      \"encoder.blocks.3.mlp.fc2.bias\"\n",
      "    ],\n",
      "    \"lr_scale\": 0.07508468627929688\n",
      "  },\n",
      "  \"layer_4_decay\": {\n",
      "    \"weight_decay\": 0.05,\n",
      "    \"params\": [\n",
      "      \"encoder.blocks.3.attn.qkv.weight\",\n",
      "      \"encoder.blocks.3.attn.proj.weight\",\n",
      "      \"encoder.blocks.3.mlp.fc1.weight\",\n",
      "      \"encoder.blocks.3.mlp.fc2.weight\"\n",
      "    ],\n",
      "    \"lr_scale\": 0.07508468627929688\n",
      "  },\n",
      "  \"layer_5_no_decay\": {\n",
      "    \"weight_decay\": 0.0,\n",
      "    \"params\": [\n",
      "      \"encoder.blocks.4.norm1.weight\",\n",
      "      \"encoder.blocks.4.norm1.bias\",\n",
      "      \"encoder.blocks.4.attn.q_bias\",\n",
      "      \"encoder.blocks.4.attn.v_bias\",\n",
      "      \"encoder.blocks.4.attn.proj.bias\",\n",
      "      \"encoder.blocks.4.norm2.weight\",\n",
      "      \"encoder.blocks.4.norm2.bias\",\n",
      "      \"encoder.blocks.4.mlp.fc1.bias\",\n",
      "      \"encoder.blocks.4.mlp.fc2.bias\"\n",
      "    ],\n",
      "    \"lr_scale\": 0.1001129150390625\n",
      "  },\n",
      "  \"layer_5_decay\": {\n",
      "    \"weight_decay\": 0.05,\n",
      "    \"params\": [\n",
      "      \"encoder.blocks.4.attn.qkv.weight\",\n",
      "      \"encoder.blocks.4.attn.proj.weight\",\n",
      "      \"encoder.blocks.4.mlp.fc1.weight\",\n",
      "      \"encoder.blocks.4.mlp.fc2.weight\"\n",
      "    ],\n",
      "    \"lr_scale\": 0.1001129150390625\n",
      "  },\n",
      "  \"layer_6_no_decay\": {\n",
      "    \"weight_decay\": 0.0,\n",
      "    \"params\": [\n",
      "      \"encoder.blocks.5.norm1.weight\",\n",
      "      \"encoder.blocks.5.norm1.bias\",\n",
      "      \"encoder.blocks.5.attn.q_bias\",\n",
      "      \"encoder.blocks.5.attn.v_bias\",\n",
      "      \"encoder.blocks.5.attn.proj.bias\",\n",
      "      \"encoder.blocks.5.norm2.weight\",\n",
      "      \"encoder.blocks.5.norm2.bias\",\n",
      "      \"encoder.blocks.5.mlp.fc1.bias\",\n",
      "      \"encoder.blocks.5.mlp.fc2.bias\"\n",
      "    ],\n",
      "    \"lr_scale\": 0.13348388671875\n",
      "  },\n",
      "  \"layer_6_decay\": {\n",
      "    \"weight_decay\": 0.05,\n",
      "    \"params\": [\n",
      "      \"encoder.blocks.5.attn.qkv.weight\",\n",
      "      \"encoder.blocks.5.attn.proj.weight\",\n",
      "      \"encoder.blocks.5.mlp.fc1.weight\",\n",
      "      \"encoder.blocks.5.mlp.fc2.weight\"\n",
      "    ],\n",
      "    \"lr_scale\": 0.13348388671875\n",
      "  },\n",
      "  \"layer_7_no_decay\": {\n",
      "    \"weight_decay\": 0.0,\n",
      "    \"params\": [\n",
      "      \"encoder.blocks.6.norm1.weight\",\n",
      "      \"encoder.blocks.6.norm1.bias\",\n",
      "      \"encoder.blocks.6.attn.q_bias\",\n",
      "      \"encoder.blocks.6.attn.v_bias\",\n",
      "      \"encoder.blocks.6.attn.proj.bias\",\n",
      "      \"encoder.blocks.6.norm2.weight\",\n",
      "      \"encoder.blocks.6.norm2.bias\",\n",
      "      \"encoder.blocks.6.mlp.fc1.bias\",\n",
      "      \"encoder.blocks.6.mlp.fc2.bias\"\n",
      "    ],\n",
      "    \"lr_scale\": 0.177978515625\n",
      "  },\n",
      "  \"layer_7_decay\": {\n",
      "    \"weight_decay\": 0.05,\n",
      "    \"params\": [\n",
      "      \"encoder.blocks.6.attn.qkv.weight\",\n",
      "      \"encoder.blocks.6.attn.proj.weight\",\n",
      "      \"encoder.blocks.6.mlp.fc1.weight\",\n",
      "      \"encoder.blocks.6.mlp.fc2.weight\"\n",
      "    ],\n",
      "    \"lr_scale\": 0.177978515625\n",
      "  },\n",
      "  \"layer_8_no_decay\": {\n",
      "    \"weight_decay\": 0.0,\n",
      "    \"params\": [\n",
      "      \"encoder.blocks.7.norm1.weight\",\n",
      "      \"encoder.blocks.7.norm1.bias\",\n",
      "      \"encoder.blocks.7.attn.q_bias\",\n",
      "      \"encoder.blocks.7.attn.v_bias\",\n",
      "      \"encoder.blocks.7.attn.proj.bias\",\n",
      "      \"encoder.blocks.7.norm2.weight\",\n",
      "      \"encoder.blocks.7.norm2.bias\",\n",
      "      \"encoder.blocks.7.mlp.fc1.bias\",\n",
      "      \"encoder.blocks.7.mlp.fc2.bias\"\n",
      "    ],\n",
      "    \"lr_scale\": 0.2373046875\n",
      "  },\n",
      "  \"layer_8_decay\": {\n",
      "    \"weight_decay\": 0.05,\n",
      "    \"params\": [\n",
      "      \"encoder.blocks.7.attn.qkv.weight\",\n",
      "      \"encoder.blocks.7.attn.proj.weight\",\n",
      "      \"encoder.blocks.7.mlp.fc1.weight\",\n",
      "      \"encoder.blocks.7.mlp.fc2.weight\"\n",
      "    ],\n",
      "    \"lr_scale\": 0.2373046875\n",
      "  },\n",
      "  \"layer_9_no_decay\": {\n",
      "    \"weight_decay\": 0.0,\n",
      "    \"params\": [\n",
      "      \"encoder.blocks.8.norm1.weight\",\n",
      "      \"encoder.blocks.8.norm1.bias\",\n",
      "      \"encoder.blocks.8.attn.q_bias\",\n",
      "      \"encoder.blocks.8.attn.v_bias\",\n",
      "      \"encoder.blocks.8.attn.proj.bias\",\n",
      "      \"encoder.blocks.8.norm2.weight\",\n",
      "      \"encoder.blocks.8.norm2.bias\",\n",
      "      \"encoder.blocks.8.mlp.fc1.bias\",\n",
      "      \"encoder.blocks.8.mlp.fc2.bias\"\n",
      "    ],\n",
      "    \"lr_scale\": 0.31640625\n",
      "  },\n",
      "  \"layer_9_decay\": {\n",
      "    \"weight_decay\": 0.05,\n",
      "    \"params\": [\n",
      "      \"encoder.blocks.8.attn.qkv.weight\",\n",
      "      \"encoder.blocks.8.attn.proj.weight\",\n",
      "      \"encoder.blocks.8.mlp.fc1.weight\",\n",
      "      \"encoder.blocks.8.mlp.fc2.weight\"\n",
      "    ],\n",
      "    \"lr_scale\": 0.31640625\n",
      "  },\n",
      "  \"layer_10_no_decay\": {\n",
      "    \"weight_decay\": 0.0,\n",
      "    \"params\": [\n",
      "      \"encoder.blocks.9.norm1.weight\",\n",
      "      \"encoder.blocks.9.norm1.bias\",\n",
      "      \"encoder.blocks.9.attn.q_bias\",\n",
      "      \"encoder.blocks.9.attn.v_bias\",\n",
      "      \"encoder.blocks.9.attn.proj.bias\",\n",
      "      \"encoder.blocks.9.norm2.weight\",\n",
      "      \"encoder.blocks.9.norm2.bias\",\n",
      "      \"encoder.blocks.9.mlp.fc1.bias\",\n",
      "      \"encoder.blocks.9.mlp.fc2.bias\"\n",
      "    ],\n",
      "    \"lr_scale\": 0.421875\n",
      "  },\n",
      "  \"layer_10_decay\": {\n",
      "    \"weight_decay\": 0.05,\n",
      "    \"params\": [\n",
      "      \"encoder.blocks.9.attn.qkv.weight\",\n",
      "      \"encoder.blocks.9.attn.proj.weight\",\n",
      "      \"encoder.blocks.9.mlp.fc1.weight\",\n",
      "      \"encoder.blocks.9.mlp.fc2.weight\"\n",
      "    ],\n",
      "    \"lr_scale\": 0.421875\n",
      "  },\n",
      "  \"layer_11_no_decay\": {\n",
      "    \"weight_decay\": 0.0,\n",
      "    \"params\": [\n",
      "      \"encoder.blocks.10.norm1.weight\",\n",
      "      \"encoder.blocks.10.norm1.bias\",\n",
      "      \"encoder.blocks.10.attn.q_bias\",\n",
      "      \"encoder.blocks.10.attn.v_bias\",\n",
      "      \"encoder.blocks.10.attn.proj.bias\",\n",
      "      \"encoder.blocks.10.norm2.weight\",\n",
      "      \"encoder.blocks.10.norm2.bias\",\n",
      "      \"encoder.blocks.10.mlp.fc1.bias\",\n",
      "      \"encoder.blocks.10.mlp.fc2.bias\"\n",
      "    ],\n",
      "    \"lr_scale\": 0.5625\n",
      "  },\n",
      "  \"layer_11_decay\": {\n",
      "    \"weight_decay\": 0.05,\n",
      "    \"params\": [\n",
      "      \"encoder.blocks.10.attn.qkv.weight\",\n",
      "      \"encoder.blocks.10.attn.proj.weight\",\n",
      "      \"encoder.blocks.10.mlp.fc1.weight\",\n",
      "      \"encoder.blocks.10.mlp.fc2.weight\"\n",
      "    ],\n",
      "    \"lr_scale\": 0.5625\n",
      "  },\n",
      "  \"layer_12_no_decay\": {\n",
      "    \"weight_decay\": 0.0,\n",
      "    \"params\": [\n",
      "      \"encoder.blocks.11.norm1.weight\",\n",
      "      \"encoder.blocks.11.norm1.bias\",\n",
      "      \"encoder.blocks.11.attn.q_bias\",\n",
      "      \"encoder.blocks.11.attn.v_bias\",\n",
      "      \"encoder.blocks.11.attn.proj.bias\",\n",
      "      \"encoder.blocks.11.norm2.weight\",\n",
      "      \"encoder.blocks.11.norm2.bias\",\n",
      "      \"encoder.blocks.11.mlp.fc1.bias\",\n",
      "      \"encoder.blocks.11.mlp.fc2.bias\"\n",
      "    ],\n",
      "    \"lr_scale\": 0.75\n",
      "  },\n",
      "  \"layer_12_decay\": {\n",
      "    \"weight_decay\": 0.05,\n",
      "    \"params\": [\n",
      "      \"encoder.blocks.11.attn.qkv.weight\",\n",
      "      \"encoder.blocks.11.attn.proj.weight\",\n",
      "      \"encoder.blocks.11.mlp.fc1.weight\",\n",
      "      \"encoder.blocks.11.mlp.fc2.weight\"\n",
      "    ],\n",
      "    \"lr_scale\": 0.75\n",
      "  },\n",
      "  \"layer_13_no_decay\": {\n",
      "    \"weight_decay\": 0.0,\n",
      "    \"params\": [\n",
      "      \"encoder.norm.weight\",\n",
      "      \"encoder.norm.bias\",\n",
      "      \"head_exp.head.bias\"\n",
      "    ],\n",
      "    \"lr_scale\": 1.0\n",
      "  },\n",
      "  \"layer_13_decay\": {\n",
      "    \"weight_decay\": 0.05,\n",
      "    \"params\": [\n",
      "      \"head_exp.head.weight\"\n",
      "    ],\n",
      "    \"lr_scale\": 1.0\n",
      "  }\n",
      "}\n",
      "optimizer settings: {'lr': 0.0001, 'weight_decay': 0.0, 'eps': 1e-08, 'betas': [0.9, 0.999]}\n",
      "Set warmup steps = 336\n",
      "Sanity Checking: |          | 0/? [00:00<?, ?it/s]"
     ]
    },
    {
     "name": "stderr",
     "output_type": "stream",
     "text": [
      "/Users/xf2217/Softwares/.micromamba/envs/get/lib/python3.10/site-packages/lightning/pytorch/trainer/connectors/data_connector.py:420: Consider setting `persistent_workers=True` in 'val_dataloader' to speed up the dataloader worker initialization.\n"
     ]
    },
    {
     "ename": "NameError",
     "evalue": "name 'exit' is not defined",
     "output_type": "error",
     "traceback": [
      "\u001b[0;31m---------------------------------------------------------------------------\u001b[0m",
      "\u001b[0;31mKeyboardInterrupt\u001b[0m                         Traceback (most recent call last)",
      "File \u001b[0;32m~/Softwares/.micromamba/envs/get/lib/python3.10/site-packages/lightning/pytorch/trainer/call.py:47\u001b[0m, in \u001b[0;36m_call_and_handle_interrupt\u001b[0;34m(trainer, trainer_fn, *args, **kwargs)\u001b[0m\n\u001b[1;32m     46\u001b[0m         \u001b[38;5;28;01mreturn\u001b[39;00m trainer\u001b[38;5;241m.\u001b[39mstrategy\u001b[38;5;241m.\u001b[39mlauncher\u001b[38;5;241m.\u001b[39mlaunch(trainer_fn, \u001b[38;5;241m*\u001b[39margs, trainer\u001b[38;5;241m=\u001b[39mtrainer, \u001b[38;5;241m*\u001b[39m\u001b[38;5;241m*\u001b[39mkwargs)\n\u001b[0;32m---> 47\u001b[0m     \u001b[38;5;28;01mreturn\u001b[39;00m \u001b[43mtrainer_fn\u001b[49m\u001b[43m(\u001b[49m\u001b[38;5;241;43m*\u001b[39;49m\u001b[43margs\u001b[49m\u001b[43m,\u001b[49m\u001b[43m \u001b[49m\u001b[38;5;241;43m*\u001b[39;49m\u001b[38;5;241;43m*\u001b[39;49m\u001b[43mkwargs\u001b[49m\u001b[43m)\u001b[49m\n\u001b[1;32m     49\u001b[0m \u001b[38;5;28;01mexcept\u001b[39;00m _TunerExitException:\n",
      "File \u001b[0;32m~/Softwares/.micromamba/envs/get/lib/python3.10/site-packages/lightning/pytorch/trainer/trainer.py:575\u001b[0m, in \u001b[0;36mTrainer._fit_impl\u001b[0;34m(self, model, train_dataloaders, val_dataloaders, datamodule, ckpt_path)\u001b[0m\n\u001b[1;32m    569\u001b[0m ckpt_path \u001b[38;5;241m=\u001b[39m \u001b[38;5;28mself\u001b[39m\u001b[38;5;241m.\u001b[39m_checkpoint_connector\u001b[38;5;241m.\u001b[39m_select_ckpt_path(\n\u001b[1;32m    570\u001b[0m     \u001b[38;5;28mself\u001b[39m\u001b[38;5;241m.\u001b[39mstate\u001b[38;5;241m.\u001b[39mfn,\n\u001b[1;32m    571\u001b[0m     ckpt_path,\n\u001b[1;32m    572\u001b[0m     model_provided\u001b[38;5;241m=\u001b[39m\u001b[38;5;28;01mTrue\u001b[39;00m,\n\u001b[1;32m    573\u001b[0m     model_connected\u001b[38;5;241m=\u001b[39m\u001b[38;5;28mself\u001b[39m\u001b[38;5;241m.\u001b[39mlightning_module \u001b[38;5;129;01mis\u001b[39;00m \u001b[38;5;129;01mnot\u001b[39;00m \u001b[38;5;28;01mNone\u001b[39;00m,\n\u001b[1;32m    574\u001b[0m )\n\u001b[0;32m--> 575\u001b[0m \u001b[38;5;28;43mself\u001b[39;49m\u001b[38;5;241;43m.\u001b[39;49m\u001b[43m_run\u001b[49m\u001b[43m(\u001b[49m\u001b[43mmodel\u001b[49m\u001b[43m,\u001b[49m\u001b[43m \u001b[49m\u001b[43mckpt_path\u001b[49m\u001b[38;5;241;43m=\u001b[39;49m\u001b[43mckpt_path\u001b[49m\u001b[43m)\u001b[49m\n\u001b[1;32m    577\u001b[0m \u001b[38;5;28;01massert\u001b[39;00m \u001b[38;5;28mself\u001b[39m\u001b[38;5;241m.\u001b[39mstate\u001b[38;5;241m.\u001b[39mstopped\n",
      "File \u001b[0;32m~/Softwares/.micromamba/envs/get/lib/python3.10/site-packages/lightning/pytorch/trainer/trainer.py:982\u001b[0m, in \u001b[0;36mTrainer._run\u001b[0;34m(self, model, ckpt_path)\u001b[0m\n\u001b[1;32m    979\u001b[0m \u001b[38;5;66;03m# ----------------------------\u001b[39;00m\n\u001b[1;32m    980\u001b[0m \u001b[38;5;66;03m# RUN THE TRAINER\u001b[39;00m\n\u001b[1;32m    981\u001b[0m \u001b[38;5;66;03m# ----------------------------\u001b[39;00m\n\u001b[0;32m--> 982\u001b[0m results \u001b[38;5;241m=\u001b[39m \u001b[38;5;28;43mself\u001b[39;49m\u001b[38;5;241;43m.\u001b[39;49m\u001b[43m_run_stage\u001b[49m\u001b[43m(\u001b[49m\u001b[43m)\u001b[49m\n\u001b[1;32m    984\u001b[0m \u001b[38;5;66;03m# ----------------------------\u001b[39;00m\n\u001b[1;32m    985\u001b[0m \u001b[38;5;66;03m# POST-Training CLEAN UP\u001b[39;00m\n\u001b[1;32m    986\u001b[0m \u001b[38;5;66;03m# ----------------------------\u001b[39;00m\n",
      "File \u001b[0;32m~/Softwares/.micromamba/envs/get/lib/python3.10/site-packages/lightning/pytorch/trainer/trainer.py:1024\u001b[0m, in \u001b[0;36mTrainer._run_stage\u001b[0;34m(self)\u001b[0m\n\u001b[1;32m   1023\u001b[0m \u001b[38;5;28;01mwith\u001b[39;00m isolate_rng():\n\u001b[0;32m-> 1024\u001b[0m     \u001b[38;5;28;43mself\u001b[39;49m\u001b[38;5;241;43m.\u001b[39;49m\u001b[43m_run_sanity_check\u001b[49m\u001b[43m(\u001b[49m\u001b[43m)\u001b[49m\n\u001b[1;32m   1025\u001b[0m \u001b[38;5;28;01mwith\u001b[39;00m torch\u001b[38;5;241m.\u001b[39mautograd\u001b[38;5;241m.\u001b[39mset_detect_anomaly(\u001b[38;5;28mself\u001b[39m\u001b[38;5;241m.\u001b[39m_detect_anomaly):\n",
      "File \u001b[0;32m~/Softwares/.micromamba/envs/get/lib/python3.10/site-packages/lightning/pytorch/trainer/trainer.py:1053\u001b[0m, in \u001b[0;36mTrainer._run_sanity_check\u001b[0;34m(self)\u001b[0m\n\u001b[1;32m   1052\u001b[0m \u001b[38;5;66;03m# run eval step\u001b[39;00m\n\u001b[0;32m-> 1053\u001b[0m \u001b[43mval_loop\u001b[49m\u001b[38;5;241;43m.\u001b[39;49m\u001b[43mrun\u001b[49m\u001b[43m(\u001b[49m\u001b[43m)\u001b[49m\n\u001b[1;32m   1055\u001b[0m call\u001b[38;5;241m.\u001b[39m_call_callback_hooks(\u001b[38;5;28mself\u001b[39m, \u001b[38;5;124m\"\u001b[39m\u001b[38;5;124mon_sanity_check_end\u001b[39m\u001b[38;5;124m\"\u001b[39m)\n",
      "File \u001b[0;32m~/Softwares/.micromamba/envs/get/lib/python3.10/site-packages/lightning/pytorch/loops/utilities.py:179\u001b[0m, in \u001b[0;36m_no_grad_context.<locals>._decorator\u001b[0;34m(self, *args, **kwargs)\u001b[0m\n\u001b[1;32m    178\u001b[0m \u001b[38;5;28;01mwith\u001b[39;00m context_manager():\n\u001b[0;32m--> 179\u001b[0m     \u001b[38;5;28;01mreturn\u001b[39;00m \u001b[43mloop_run\u001b[49m\u001b[43m(\u001b[49m\u001b[38;5;28;43mself\u001b[39;49m\u001b[43m,\u001b[49m\u001b[43m \u001b[49m\u001b[38;5;241;43m*\u001b[39;49m\u001b[43margs\u001b[49m\u001b[43m,\u001b[49m\u001b[43m \u001b[49m\u001b[38;5;241;43m*\u001b[39;49m\u001b[38;5;241;43m*\u001b[39;49m\u001b[43mkwargs\u001b[49m\u001b[43m)\u001b[49m\n",
      "File \u001b[0;32m~/Softwares/.micromamba/envs/get/lib/python3.10/site-packages/lightning/pytorch/loops/evaluation_loop.py:122\u001b[0m, in \u001b[0;36m_EvaluationLoop.run\u001b[0;34m(self)\u001b[0m\n\u001b[1;32m    121\u001b[0m     \u001b[38;5;28;01mreturn\u001b[39;00m []\n\u001b[0;32m--> 122\u001b[0m \u001b[38;5;28;43mself\u001b[39;49m\u001b[38;5;241;43m.\u001b[39;49m\u001b[43mreset\u001b[49m\u001b[43m(\u001b[49m\u001b[43m)\u001b[49m\n\u001b[1;32m    123\u001b[0m \u001b[38;5;28mself\u001b[39m\u001b[38;5;241m.\u001b[39mon_run_start()\n",
      "File \u001b[0;32m~/Softwares/.micromamba/envs/get/lib/python3.10/site-packages/lightning/pytorch/loops/evaluation_loop.py:258\u001b[0m, in \u001b[0;36m_EvaluationLoop.reset\u001b[0;34m(self)\u001b[0m\n\u001b[1;32m    257\u001b[0m data_fetcher\u001b[38;5;241m.\u001b[39msetup(combined_loader)\n\u001b[0;32m--> 258\u001b[0m \u001b[38;5;28;43miter\u001b[39;49m\u001b[43m(\u001b[49m\u001b[43mdata_fetcher\u001b[49m\u001b[43m)\u001b[49m  \u001b[38;5;66;03m# creates the iterator inside the fetcher\u001b[39;00m\n\u001b[1;32m    260\u001b[0m \u001b[38;5;66;03m# add the previous `fetched` value to properly track `is_last_batch` with no prefetching\u001b[39;00m\n",
      "File \u001b[0;32m~/Softwares/.micromamba/envs/get/lib/python3.10/site-packages/lightning/pytorch/loops/fetchers.py:105\u001b[0m, in \u001b[0;36m_PrefetchDataFetcher.__iter__\u001b[0;34m(self)\u001b[0m\n\u001b[1;32m    103\u001b[0m \u001b[38;5;129m@override\u001b[39m\n\u001b[1;32m    104\u001b[0m \u001b[38;5;28;01mdef\u001b[39;00m \u001b[38;5;21m__iter__\u001b[39m(\u001b[38;5;28mself\u001b[39m) \u001b[38;5;241m-\u001b[39m\u001b[38;5;241m>\u001b[39m \u001b[38;5;124m\"\u001b[39m\u001b[38;5;124m_PrefetchDataFetcher\u001b[39m\u001b[38;5;124m\"\u001b[39m:\n\u001b[0;32m--> 105\u001b[0m     \u001b[38;5;28;43msuper\u001b[39;49m\u001b[43m(\u001b[49m\u001b[43m)\u001b[49m\u001b[38;5;241;43m.\u001b[39;49m\u001b[38;5;21;43m__iter__\u001b[39;49m\u001b[43m(\u001b[49m\u001b[43m)\u001b[49m\n\u001b[1;32m    106\u001b[0m     \u001b[38;5;28;01mif\u001b[39;00m \u001b[38;5;28mself\u001b[39m\u001b[38;5;241m.\u001b[39mlength \u001b[38;5;129;01mis\u001b[39;00m \u001b[38;5;129;01mnot\u001b[39;00m \u001b[38;5;28;01mNone\u001b[39;00m:\n\u001b[1;32m    107\u001b[0m         \u001b[38;5;66;03m# ignore pre-fetching, it's not necessary\u001b[39;00m\n",
      "File \u001b[0;32m~/Softwares/.micromamba/envs/get/lib/python3.10/site-packages/lightning/pytorch/loops/fetchers.py:52\u001b[0m, in \u001b[0;36m_DataFetcher.__iter__\u001b[0;34m(self)\u001b[0m\n\u001b[1;32m     50\u001b[0m \u001b[38;5;129m@override\u001b[39m\n\u001b[1;32m     51\u001b[0m \u001b[38;5;28;01mdef\u001b[39;00m \u001b[38;5;21m__iter__\u001b[39m(\u001b[38;5;28mself\u001b[39m) \u001b[38;5;241m-\u001b[39m\u001b[38;5;241m>\u001b[39m \u001b[38;5;124m\"\u001b[39m\u001b[38;5;124m_DataFetcher\u001b[39m\u001b[38;5;124m\"\u001b[39m:\n\u001b[0;32m---> 52\u001b[0m     \u001b[38;5;28mself\u001b[39m\u001b[38;5;241m.\u001b[39miterator \u001b[38;5;241m=\u001b[39m \u001b[38;5;28;43miter\u001b[39;49m\u001b[43m(\u001b[49m\u001b[38;5;28;43mself\u001b[39;49m\u001b[38;5;241;43m.\u001b[39;49m\u001b[43mcombined_loader\u001b[49m\u001b[43m)\u001b[49m\n\u001b[1;32m     53\u001b[0m     \u001b[38;5;28mself\u001b[39m\u001b[38;5;241m.\u001b[39mreset()\n",
      "File \u001b[0;32m~/Softwares/.micromamba/envs/get/lib/python3.10/site-packages/lightning/pytorch/utilities/combined_loader.py:351\u001b[0m, in \u001b[0;36mCombinedLoader.__iter__\u001b[0;34m(self)\u001b[0m\n\u001b[1;32m    350\u001b[0m iterator \u001b[38;5;241m=\u001b[39m \u001b[38;5;28mcls\u001b[39m(\u001b[38;5;28mself\u001b[39m\u001b[38;5;241m.\u001b[39mflattened, \u001b[38;5;28mself\u001b[39m\u001b[38;5;241m.\u001b[39m_limits)\n\u001b[0;32m--> 351\u001b[0m \u001b[38;5;28;43miter\u001b[39;49m\u001b[43m(\u001b[49m\u001b[43miterator\u001b[49m\u001b[43m)\u001b[49m\n\u001b[1;32m    352\u001b[0m \u001b[38;5;28mself\u001b[39m\u001b[38;5;241m.\u001b[39m_iterator \u001b[38;5;241m=\u001b[39m iterator\n",
      "File \u001b[0;32m~/Softwares/.micromamba/envs/get/lib/python3.10/site-packages/lightning/pytorch/utilities/combined_loader.py:155\u001b[0m, in \u001b[0;36m_Sequential.__iter__\u001b[0;34m(self)\u001b[0m\n\u001b[1;32m    154\u001b[0m \u001b[38;5;28mself\u001b[39m\u001b[38;5;241m.\u001b[39m_idx \u001b[38;5;241m=\u001b[39m \u001b[38;5;241m0\u001b[39m\n\u001b[0;32m--> 155\u001b[0m \u001b[38;5;28;43mself\u001b[39;49m\u001b[38;5;241;43m.\u001b[39;49m\u001b[43m_load_current_iterator\u001b[49m\u001b[43m(\u001b[49m\u001b[43m)\u001b[49m\n\u001b[1;32m    156\u001b[0m \u001b[38;5;28;01mreturn\u001b[39;00m \u001b[38;5;28mself\u001b[39m\n",
      "File \u001b[0;32m~/Softwares/.micromamba/envs/get/lib/python3.10/site-packages/lightning/pytorch/utilities/combined_loader.py:173\u001b[0m, in \u001b[0;36m_Sequential._load_current_iterator\u001b[0;34m(self)\u001b[0m\n\u001b[1;32m    172\u001b[0m \u001b[38;5;28;01mif\u001b[39;00m \u001b[38;5;28mself\u001b[39m\u001b[38;5;241m.\u001b[39m_iterator_idx \u001b[38;5;241m<\u001b[39m \u001b[38;5;28mlen\u001b[39m(\u001b[38;5;28mself\u001b[39m\u001b[38;5;241m.\u001b[39miterables):\n\u001b[0;32m--> 173\u001b[0m     \u001b[38;5;28mself\u001b[39m\u001b[38;5;241m.\u001b[39miterators \u001b[38;5;241m=\u001b[39m [\u001b[38;5;28;43miter\u001b[39;49m\u001b[43m(\u001b[49m\u001b[38;5;28;43mself\u001b[39;49m\u001b[38;5;241;43m.\u001b[39;49m\u001b[43miterables\u001b[49m\u001b[43m[\u001b[49m\u001b[38;5;28;43mself\u001b[39;49m\u001b[38;5;241;43m.\u001b[39;49m\u001b[43m_iterator_idx\u001b[49m\u001b[43m]\u001b[49m\u001b[43m)\u001b[49m]\n\u001b[1;32m    174\u001b[0m \u001b[38;5;28;01melse\u001b[39;00m:\n\u001b[1;32m    175\u001b[0m     \u001b[38;5;66;03m# No more iterables to step through, return an empty list\u001b[39;00m\n",
      "File \u001b[0;32m~/Softwares/.micromamba/envs/get/lib/python3.10/site-packages/torch/utils/data/dataloader.py:484\u001b[0m, in \u001b[0;36mDataLoader.__iter__\u001b[0;34m(self)\u001b[0m\n\u001b[1;32m    483\u001b[0m \u001b[38;5;28;01melse\u001b[39;00m:\n\u001b[0;32m--> 484\u001b[0m     \u001b[38;5;28;01mreturn\u001b[39;00m \u001b[38;5;28;43mself\u001b[39;49m\u001b[38;5;241;43m.\u001b[39;49m\u001b[43m_get_iterator\u001b[49m\u001b[43m(\u001b[49m\u001b[43m)\u001b[49m\n",
      "File \u001b[0;32m~/Softwares/.micromamba/envs/get/lib/python3.10/site-packages/torch/utils/data/dataloader.py:415\u001b[0m, in \u001b[0;36mDataLoader._get_iterator\u001b[0;34m(self)\u001b[0m\n\u001b[1;32m    414\u001b[0m \u001b[38;5;28mself\u001b[39m\u001b[38;5;241m.\u001b[39mcheck_worker_number_rationality()\n\u001b[0;32m--> 415\u001b[0m \u001b[38;5;28;01mreturn\u001b[39;00m \u001b[43m_MultiProcessingDataLoaderIter\u001b[49m\u001b[43m(\u001b[49m\u001b[38;5;28;43mself\u001b[39;49m\u001b[43m)\u001b[49m\n",
      "File \u001b[0;32m~/Softwares/.micromamba/envs/get/lib/python3.10/site-packages/torch/utils/data/dataloader.py:1138\u001b[0m, in \u001b[0;36m_MultiProcessingDataLoaderIter.__init__\u001b[0;34m(self, loader)\u001b[0m\n\u001b[1;32m   1132\u001b[0m \u001b[38;5;66;03m# NB: Process.start() actually take some time as it needs to\u001b[39;00m\n\u001b[1;32m   1133\u001b[0m \u001b[38;5;66;03m#     start a process and pass the arguments over via a pipe.\u001b[39;00m\n\u001b[1;32m   1134\u001b[0m \u001b[38;5;66;03m#     Therefore, we only add a worker to self._workers list after\u001b[39;00m\n\u001b[1;32m   1135\u001b[0m \u001b[38;5;66;03m#     it started, so that we do not call .join() if program dies\u001b[39;00m\n\u001b[1;32m   1136\u001b[0m \u001b[38;5;66;03m#     before it starts, and __del__ tries to join but will get:\u001b[39;00m\n\u001b[1;32m   1137\u001b[0m \u001b[38;5;66;03m#     AssertionError: can only join a started process.\u001b[39;00m\n\u001b[0;32m-> 1138\u001b[0m \u001b[43mw\u001b[49m\u001b[38;5;241;43m.\u001b[39;49m\u001b[43mstart\u001b[49m\u001b[43m(\u001b[49m\u001b[43m)\u001b[49m\n\u001b[1;32m   1139\u001b[0m \u001b[38;5;28mself\u001b[39m\u001b[38;5;241m.\u001b[39m_index_queues\u001b[38;5;241m.\u001b[39mappend(index_queue)\n",
      "File \u001b[0;32m~/Softwares/.micromamba/envs/get/lib/python3.10/multiprocessing/process.py:121\u001b[0m, in \u001b[0;36mBaseProcess.start\u001b[0;34m(self)\u001b[0m\n\u001b[1;32m    120\u001b[0m _cleanup()\n\u001b[0;32m--> 121\u001b[0m \u001b[38;5;28mself\u001b[39m\u001b[38;5;241m.\u001b[39m_popen \u001b[38;5;241m=\u001b[39m \u001b[38;5;28;43mself\u001b[39;49m\u001b[38;5;241;43m.\u001b[39;49m\u001b[43m_Popen\u001b[49m\u001b[43m(\u001b[49m\u001b[38;5;28;43mself\u001b[39;49m\u001b[43m)\u001b[49m\n\u001b[1;32m    122\u001b[0m \u001b[38;5;28mself\u001b[39m\u001b[38;5;241m.\u001b[39m_sentinel \u001b[38;5;241m=\u001b[39m \u001b[38;5;28mself\u001b[39m\u001b[38;5;241m.\u001b[39m_popen\u001b[38;5;241m.\u001b[39msentinel\n",
      "File \u001b[0;32m~/Softwares/.micromamba/envs/get/lib/python3.10/multiprocessing/context.py:224\u001b[0m, in \u001b[0;36mProcess._Popen\u001b[0;34m(process_obj)\u001b[0m\n\u001b[1;32m    222\u001b[0m \u001b[38;5;129m@staticmethod\u001b[39m\n\u001b[1;32m    223\u001b[0m \u001b[38;5;28;01mdef\u001b[39;00m \u001b[38;5;21m_Popen\u001b[39m(process_obj):\n\u001b[0;32m--> 224\u001b[0m     \u001b[38;5;28;01mreturn\u001b[39;00m \u001b[43m_default_context\u001b[49m\u001b[38;5;241;43m.\u001b[39;49m\u001b[43mget_context\u001b[49m\u001b[43m(\u001b[49m\u001b[43m)\u001b[49m\u001b[38;5;241;43m.\u001b[39;49m\u001b[43mProcess\u001b[49m\u001b[38;5;241;43m.\u001b[39;49m\u001b[43m_Popen\u001b[49m\u001b[43m(\u001b[49m\u001b[43mprocess_obj\u001b[49m\u001b[43m)\u001b[49m\n",
      "File \u001b[0;32m~/Softwares/.micromamba/envs/get/lib/python3.10/multiprocessing/context.py:288\u001b[0m, in \u001b[0;36mSpawnProcess._Popen\u001b[0;34m(process_obj)\u001b[0m\n\u001b[1;32m    287\u001b[0m \u001b[38;5;28;01mfrom\u001b[39;00m \u001b[38;5;21;01m.\u001b[39;00m\u001b[38;5;21;01mpopen_spawn_posix\u001b[39;00m \u001b[38;5;28;01mimport\u001b[39;00m Popen\n\u001b[0;32m--> 288\u001b[0m \u001b[38;5;28;01mreturn\u001b[39;00m \u001b[43mPopen\u001b[49m\u001b[43m(\u001b[49m\u001b[43mprocess_obj\u001b[49m\u001b[43m)\u001b[49m\n",
      "File \u001b[0;32m~/Softwares/.micromamba/envs/get/lib/python3.10/multiprocessing/popen_spawn_posix.py:32\u001b[0m, in \u001b[0;36mPopen.__init__\u001b[0;34m(self, process_obj)\u001b[0m\n\u001b[1;32m     31\u001b[0m \u001b[38;5;28mself\u001b[39m\u001b[38;5;241m.\u001b[39m_fds \u001b[38;5;241m=\u001b[39m []\n\u001b[0;32m---> 32\u001b[0m \u001b[38;5;28;43msuper\u001b[39;49m\u001b[43m(\u001b[49m\u001b[43m)\u001b[49m\u001b[38;5;241;43m.\u001b[39;49m\u001b[38;5;21;43m__init__\u001b[39;49m\u001b[43m(\u001b[49m\u001b[43mprocess_obj\u001b[49m\u001b[43m)\u001b[49m\n",
      "File \u001b[0;32m~/Softwares/.micromamba/envs/get/lib/python3.10/multiprocessing/popen_fork.py:19\u001b[0m, in \u001b[0;36mPopen.__init__\u001b[0;34m(self, process_obj)\u001b[0m\n\u001b[1;32m     18\u001b[0m \u001b[38;5;28mself\u001b[39m\u001b[38;5;241m.\u001b[39mfinalizer \u001b[38;5;241m=\u001b[39m \u001b[38;5;28;01mNone\u001b[39;00m\n\u001b[0;32m---> 19\u001b[0m \u001b[38;5;28;43mself\u001b[39;49m\u001b[38;5;241;43m.\u001b[39;49m\u001b[43m_launch\u001b[49m\u001b[43m(\u001b[49m\u001b[43mprocess_obj\u001b[49m\u001b[43m)\u001b[49m\n",
      "File \u001b[0;32m~/Softwares/.micromamba/envs/get/lib/python3.10/multiprocessing/popen_spawn_posix.py:62\u001b[0m, in \u001b[0;36mPopen._launch\u001b[0;34m(self, process_obj)\u001b[0m\n\u001b[1;32m     61\u001b[0m     \u001b[38;5;28;01mwith\u001b[39;00m \u001b[38;5;28mopen\u001b[39m(parent_w, \u001b[38;5;124m'\u001b[39m\u001b[38;5;124mwb\u001b[39m\u001b[38;5;124m'\u001b[39m, closefd\u001b[38;5;241m=\u001b[39m\u001b[38;5;28;01mFalse\u001b[39;00m) \u001b[38;5;28;01mas\u001b[39;00m f:\n\u001b[0;32m---> 62\u001b[0m         \u001b[43mf\u001b[49m\u001b[38;5;241;43m.\u001b[39;49m\u001b[43mwrite\u001b[49m\u001b[43m(\u001b[49m\u001b[43mfp\u001b[49m\u001b[38;5;241;43m.\u001b[39;49m\u001b[43mgetbuffer\u001b[49m\u001b[43m(\u001b[49m\u001b[43m)\u001b[49m\u001b[43m)\u001b[49m\n\u001b[1;32m     63\u001b[0m \u001b[38;5;28;01mfinally\u001b[39;00m:\n",
      "\u001b[0;31mKeyboardInterrupt\u001b[0m: ",
      "\nDuring handling of the above exception, another exception occurred:\n",
      "\u001b[0;31mNameError\u001b[0m                                 Traceback (most recent call last)",
      "Cell \u001b[0;32mIn[5], line 4\u001b[0m\n\u001b[1;32m      1\u001b[0m \u001b[38;5;66;03m#%%\u001b[39;00m\n\u001b[1;32m      2\u001b[0m \u001b[38;5;66;03m# first run the model without initializing with a pretrain checkpoint\u001b[39;00m\n\u001b[1;32m      3\u001b[0m cfg\u001b[38;5;241m.\u001b[39mfinetune\u001b[38;5;241m.\u001b[39mcheckpoint \u001b[38;5;241m=\u001b[39m \u001b[38;5;28;01mNone\u001b[39;00m\n\u001b[0;32m----> 4\u001b[0m trainer \u001b[38;5;241m=\u001b[39m \u001b[43mrun\u001b[49m\u001b[43m(\u001b[49m\u001b[43mcfg\u001b[49m\u001b[43m)\u001b[49m\n",
      "File \u001b[0;32m~/Repos/get_model/get_model/run_region.py:433\u001b[0m, in \u001b[0;36mrun_zarr\u001b[0;34m(cfg)\u001b[0m\n\u001b[1;32m    430\u001b[0m dm \u001b[38;5;241m=\u001b[39m RegionZarrDataModule(cfg)\n\u001b[1;32m    431\u001b[0m model\u001b[38;5;241m.\u001b[39mdm \u001b[38;5;241m=\u001b[39m dm\n\u001b[0;32m--> 433\u001b[0m \u001b[38;5;28;01mreturn\u001b[39;00m \u001b[43mrun_shared\u001b[49m\u001b[43m(\u001b[49m\u001b[43mcfg\u001b[49m\u001b[43m,\u001b[49m\u001b[43m \u001b[49m\u001b[43mmodel\u001b[49m\u001b[43m,\u001b[49m\u001b[43m \u001b[49m\u001b[43mdm\u001b[49m\u001b[43m)\u001b[49m\n",
      "File \u001b[0;32m~/Repos/get_model/get_model/run.py:698\u001b[0m, in \u001b[0;36mrun_shared\u001b[0;34m(cfg, model, dm)\u001b[0m\n\u001b[1;32m    695\u001b[0m trainer \u001b[38;5;241m=\u001b[39m setup_trainer(cfg)\n\u001b[1;32m    697\u001b[0m \u001b[38;5;28;01mif\u001b[39;00m cfg\u001b[38;5;241m.\u001b[39mstage \u001b[38;5;241m==\u001b[39m \u001b[38;5;124m\"\u001b[39m\u001b[38;5;124mfit\u001b[39m\u001b[38;5;124m\"\u001b[39m:\n\u001b[0;32m--> 698\u001b[0m     \u001b[43mtrainer\u001b[49m\u001b[38;5;241;43m.\u001b[39;49m\u001b[43mfit\u001b[49m\u001b[43m(\u001b[49m\u001b[43mmodel\u001b[49m\u001b[43m,\u001b[49m\u001b[43m \u001b[49m\u001b[43mdm\u001b[49m\u001b[43m,\u001b[49m\u001b[43m \u001b[49m\u001b[43mckpt_path\u001b[49m\u001b[38;5;241;43m=\u001b[39;49m\u001b[43mcfg\u001b[49m\u001b[38;5;241;43m.\u001b[39;49m\u001b[43mfinetune\u001b[49m\u001b[38;5;241;43m.\u001b[39;49m\u001b[43mresume_ckpt\u001b[49m\u001b[43m)\u001b[49m\n\u001b[1;32m    699\u001b[0m \u001b[38;5;28;01mif\u001b[39;00m cfg\u001b[38;5;241m.\u001b[39mstage \u001b[38;5;241m==\u001b[39m \u001b[38;5;124m\"\u001b[39m\u001b[38;5;124mvalidate\u001b[39m\u001b[38;5;124m\"\u001b[39m:\n\u001b[1;32m    700\u001b[0m     trainer\u001b[38;5;241m.\u001b[39mvalidate(model, datamodule\u001b[38;5;241m=\u001b[39mdm, ckpt_path\u001b[38;5;241m=\u001b[39mcfg\u001b[38;5;241m.\u001b[39mfinetune\u001b[38;5;241m.\u001b[39mresume_ckpt)\n",
      "File \u001b[0;32m~/Softwares/.micromamba/envs/get/lib/python3.10/site-packages/lightning/pytorch/trainer/trainer.py:539\u001b[0m, in \u001b[0;36mTrainer.fit\u001b[0;34m(self, model, train_dataloaders, val_dataloaders, datamodule, ckpt_path)\u001b[0m\n\u001b[1;32m    537\u001b[0m \u001b[38;5;28mself\u001b[39m\u001b[38;5;241m.\u001b[39mstate\u001b[38;5;241m.\u001b[39mstatus \u001b[38;5;241m=\u001b[39m TrainerStatus\u001b[38;5;241m.\u001b[39mRUNNING\n\u001b[1;32m    538\u001b[0m \u001b[38;5;28mself\u001b[39m\u001b[38;5;241m.\u001b[39mtraining \u001b[38;5;241m=\u001b[39m \u001b[38;5;28;01mTrue\u001b[39;00m\n\u001b[0;32m--> 539\u001b[0m \u001b[43mcall\u001b[49m\u001b[38;5;241;43m.\u001b[39;49m\u001b[43m_call_and_handle_interrupt\u001b[49m\u001b[43m(\u001b[49m\n\u001b[1;32m    540\u001b[0m \u001b[43m    \u001b[49m\u001b[38;5;28;43mself\u001b[39;49m\u001b[43m,\u001b[49m\u001b[43m \u001b[49m\u001b[38;5;28;43mself\u001b[39;49m\u001b[38;5;241;43m.\u001b[39;49m\u001b[43m_fit_impl\u001b[49m\u001b[43m,\u001b[49m\u001b[43m \u001b[49m\u001b[43mmodel\u001b[49m\u001b[43m,\u001b[49m\u001b[43m \u001b[49m\u001b[43mtrain_dataloaders\u001b[49m\u001b[43m,\u001b[49m\u001b[43m \u001b[49m\u001b[43mval_dataloaders\u001b[49m\u001b[43m,\u001b[49m\u001b[43m \u001b[49m\u001b[43mdatamodule\u001b[49m\u001b[43m,\u001b[49m\u001b[43m \u001b[49m\u001b[43mckpt_path\u001b[49m\n\u001b[1;32m    541\u001b[0m \u001b[43m\u001b[49m\u001b[43m)\u001b[49m\n",
      "File \u001b[0;32m~/Softwares/.micromamba/envs/get/lib/python3.10/site-packages/lightning/pytorch/trainer/call.py:64\u001b[0m, in \u001b[0;36m_call_and_handle_interrupt\u001b[0;34m(trainer, trainer_fn, *args, **kwargs)\u001b[0m\n\u001b[1;32m     62\u001b[0m     \u001b[38;5;28;01mif\u001b[39;00m \u001b[38;5;28misinstance\u001b[39m(launcher, _SubprocessScriptLauncher):\n\u001b[1;32m     63\u001b[0m         launcher\u001b[38;5;241m.\u001b[39mkill(_get_sigkill_signal())\n\u001b[0;32m---> 64\u001b[0m     \u001b[43mexit\u001b[49m(\u001b[38;5;241m1\u001b[39m)\n\u001b[1;32m     66\u001b[0m \u001b[38;5;28;01mexcept\u001b[39;00m \u001b[38;5;167;01mBaseException\u001b[39;00m \u001b[38;5;28;01mas\u001b[39;00m exception:\n\u001b[1;32m     67\u001b[0m     _interrupt(trainer, exception)\n",
      "\u001b[0;31mNameError\u001b[0m: name 'exit' is not defined"
     ]
    }
   ],
   "source": [
    "#%%\n",
    "# first run the model without initializing with a pretrain checkpoint\n",
    "cfg.finetune.checkpoint = None\n",
    "trainer = run(cfg)\n"
   ]
  },
  {
   "cell_type": "markdown",
   "metadata": {},
   "source": [
    "The training speed is almost on par with a 3090 suprisingly...However something in the validation step has not fully utilized the MPS accelarator which make it a bit slow..."
   ]
  },
  {
   "cell_type": "code",
   "execution_count": 6,
   "metadata": {},
   "outputs": [
    {
     "data": {
      "text/plain": [
       "{'train_atpm_loss': tensor(0.4894),\n",
       " 'train_loss': tensor(0.4894),\n",
       " 'val_atpm_loss': tensor(0.4842),\n",
       " 'atpm_pearson': tensor(0.6565),\n",
       " 'atpm_spearman': tensor(0.4794),\n",
       " 'atpm_r2': tensor(0.3233),\n",
       " 'val_loss': tensor(0.4842)}"
      ]
     },
     "execution_count": 6,
     "metadata": {},
     "output_type": "execute_result"
    }
   ],
   "source": [
    "#%%\n",
    "trainer.callback_metrics\n"
   ]
  },
  {
   "cell_type": "markdown",
   "metadata": {},
   "source": [
    " ## Training With Pretrained Checkpoint\n",
    "\n",
    "\n",
    "\n",
    " Now, let's train the model using a pretrained checkpoint. This checkpoint was trained on a large dataset\n",
    "\n",
    " and should help the model learn faster and potentially achieve better performance.\n",
    "\n",
    "\n",
    "\n",
    " Note: You'll need to download the checkpoint first:\n",
    "\n",
    " ```bash\n",
    "\n",
    " aws s3 cp s3://2023-get-xf2217/get_demo/checkpoints/regulatory_inference_checkpoint_fetal_adult/pretrain_fetal_adult/checkpoint-799.pth ./checkpoint-799.pth\n",
    "\n",
    " ```"
   ]
  },
  {
   "cell_type": "code",
   "execution_count": 15,
   "metadata": {},
   "outputs": [],
   "source": [
    "#%%\n",
    "# now train the model with a pretrain checkpoint\n",
    "cfg.finetune.checkpoint = './checkpoint-799.pth'\n",
    "cfg.run.run_name = 'predict_atac_with_pretrain'\n",
    "cfg.finetune.strict = False # need this because the original checkpoint has a mask-prediction header\n"
   ]
  },
  {
   "cell_type": "code",
   "execution_count": 8,
   "metadata": {},
   "outputs": [
    {
     "data": {
      "text/plain": [
       "{'train_atpm_loss': tensor(0.4900),\n",
       " 'train_loss': tensor(0.4900),\n",
       " 'val_atpm_loss': tensor(0.4761),\n",
       " 'atpm_pearson': tensor(0.6761),\n",
       " 'atpm_spearman': tensor(0.4886),\n",
       " 'atpm_r2': tensor(0.4412),\n",
       " 'val_loss': tensor(0.4761)}"
      ]
     },
     "execution_count": 8,
     "metadata": {},
     "output_type": "execute_result"
    }
   ],
   "source": [
    "trainer = run(cfg)\n",
    "trainer.callback_metrics\n"
   ]
  },
  {
   "cell_type": "markdown",
   "metadata": {},
   "source": [
    "## Results Analysis\n",
    "\n",
    "Looking at the results, we can see that the pretrained model yields better results than trained from scratch. If you look at the validation loss curve on wandb, you will find that the pretrained version is always lower than the from-scratch version.\n",
    "\n",
    "This demonstrates the value of transfer learning in genomics - the pretrained model has already learned useful features about the relationship between motifs and chromatin accessibility."
   ]
  },
  {
   "cell_type": "markdown",
   "metadata": {},
   "source": [
    "## Interpretation analysis"
   ]
  },
  {
   "cell_type": "markdown",
   "metadata": {},
   "source": [
    "Let's say we want to examine the contributor to chromatin accessibility at several gene's promoters, the gene list are defined in `cfg.task.gene_list`. You can also set it to `None` to infer all genes."
   ]
  },
  {
   "cell_type": "code",
   "execution_count": 16,
   "metadata": {},
   "outputs": [
    {
     "data": {
      "text/plain": [
       "'MYC,SOX10,SOX2,RET'"
      ]
     },
     "execution_count": 16,
     "metadata": {},
     "output_type": "execute_result"
    }
   ],
   "source": [
    "cfg.task.gene_list"
   ]
  },
  {
   "cell_type": "code",
   "execution_count": 18,
   "metadata": {},
   "outputs": [],
   "source": [
    "# Run inference to get the jacobian matrix for genes\n",
    "# Setup config first. Change state to 'predict'\n",
    "cfg.stage = 'predict'\n",
    "cfg.machine.batch_size=1\n",
    "# resume from the best checkpoint we just traineds\n",
    "cfg.finetune.checkpoint = None\n",
    "cfg.finetune.resume_ckpt = '/Users/xf2217/Downloads/finetune_tutorial/predict_atac_with_pretrain/checkpoints/best.ckpt' #trainer.checkpoint_callback.best_model_path\n",
    "cfg.run.run_name='interpret'\n",
    "# save config to yaml in case we need to resume from it\n",
    "from omegaconf import OmegaConf\n",
    "OmegaConf.save(cfg, 'interpret_cfg.yaml')"
   ]
  },
  {
   "cell_type": "code",
   "execution_count": 2,
   "metadata": {},
   "outputs": [
    {
     "name": "stderr",
     "output_type": "stream",
     "text": [
      "/Users/xf2217/Softwares/.micromamba/envs/get/lib/python3.10/site-packages/torchmetrics/utilities/prints.py:43: UserWarning: Metric `SpearmanCorrcoef` will save all targets and predictions in the buffer. For large datasets, this may lead to large memory footprint.\n",
      "  warnings.warn(*args, **kwargs)  # noqa: B028\n",
      "/Users/xf2217/Softwares/.micromamba/envs/get/lib/python3.10/site-packages/lightning/pytorch/loggers/wandb.py:397: There is a wandb run already in progress and newly created instances of `WandbLogger` will reuse this run. If this is not desired, call `wandb.finish()` before instantiating `WandbLogger`.\n",
      "100%|██████████| 1/1 [00:00<00:00, 75.05it/s]\n"
     ]
    },
    {
     "name": "stdout",
     "output_type": "stream",
     "text": [
      "Leave out chromosomes: ['chr10', 'chr11']\n",
      "Input chromosomes: ['chr10', 'chr11']\n"
     ]
    },
    {
     "name": "stderr",
     "output_type": "stream",
     "text": [
      "/Users/xf2217/Softwares/.micromamba/envs/get/lib/python3.10/site-packages/lightning/pytorch/callbacks/model_checkpoint.py:362: The dirpath has changed from '/Users/xf2217/Downloads/finetune_tutorial/predict_atac_with_pretrain/checkpoints' to '/Users/xf2217/Downloads/finetune_tutorial/interpret/checkpoints', therefore `best_model_score`, `kth_best_model_path`, `kth_value`, `last_model_path` and `best_k_models` won't be reloaded. Only `best_model_path` will be reloaded.\n"
     ]
    },
    {
     "name": "stdout",
     "output_type": "stream",
     "text": [
      "Predicting DataLoader 0: 100%|██████████| 6/6 [00:00<00:00, 14.54it/s]Saving to /Users/xf2217/Downloads/finetune_tutorial/interpret/interpret.zarr\n",
      "Predicting DataLoader 0: 100%|██████████| 6/6 [00:00<00:00, 13.90it/s]\n"
     ]
    },
    {
     "name": "stderr",
     "output_type": "stream",
     "text": [
      "/Users/xf2217/Softwares/.micromamba/envs/get/lib/python3.10/site-packages/zarr/storage.py:455: UserWarning: an object_codec is only needed for object arrays\n",
      "  _init_array_metadata(\n"
     ]
    },
    {
     "data": {
      "text/html": [],
      "text/plain": [
       "<IPython.core.display.HTML object>"
      ]
     },
     "metadata": {},
     "output_type": "display_data"
    },
    {
     "data": {
      "text/html": [
       " View run <strong style=\"color:#cdcd00\">interpret</strong> at: <a href='https://wandb.ai/get-v3/finetune_tutorial/runs/cv4zt2s5' target=\"_blank\">https://wandb.ai/get-v3/finetune_tutorial/runs/cv4zt2s5</a><br> View project at: <a href='https://wandb.ai/get-v3/finetune_tutorial' target=\"_blank\">https://wandb.ai/get-v3/finetune_tutorial</a><br>Synced 5 W&B file(s), 0 media file(s), 0 artifact file(s) and 0 other file(s)"
      ],
      "text/plain": [
       "<IPython.core.display.HTML object>"
      ]
     },
     "metadata": {},
     "output_type": "display_data"
    },
    {
     "data": {
      "text/html": [
       "Find logs at: <code>/Users/xf2217/Downloads/finetune_tutorial/interpret/wandb/run-20250103_004924-cv4zt2s5/logs</code>"
      ],
      "text/plain": [
       "<IPython.core.display.HTML object>"
      ]
     },
     "metadata": {},
     "output_type": "display_data"
    },
    {
     "data": {
      "text/plain": [
       "<lightning.pytorch.trainer.trainer.Trainer at 0x371209e40>"
      ]
     },
     "execution_count": 2,
     "metadata": {},
     "output_type": "execute_result"
    }
   ],
   "source": [
    "# run model inference\n",
    "import os\n",
    "\n",
    "from get_model.config.config import load_config\n",
    "\n",
    "if os.path.exists('interpret_cfg.yaml'):\n",
    "    cfg = load_config('interpret_cfg.yaml', '../../tutorials')\n",
    "from get_model.run_region import run_zarr as run\n",
    "\n",
    "run(cfg)"
   ]
  },
  {
   "cell_type": "code",
   "execution_count": 4,
   "metadata": {},
   "outputs": [
    {
     "data": {
      "text/plain": [
       "GETHydraCelltype: None\n",
       "        Zarr path: /Users/xf2217/Downloads/finetune_tutorial/interpret/interpret.zarr\n",
       "        Number of regions per sample: 200\n",
       "        Number of features: 283\n",
       "        Number of genes: 6\n",
       "        Number of peaks: 1200\n",
       "        "
      ]
     },
     "execution_count": 4,
     "metadata": {},
     "output_type": "execute_result"
    }
   ],
   "source": [
    "import os\n",
    "\n",
    "from gcell.cell.celltype import GETHydraCellType\n",
    "\n",
    "from get_model.config.config import load_config\n",
    "\n",
    "if os.path.exists('interpret_cfg.yaml'):\n",
    "    cfg = load_config('interpret_cfg.yaml', '../../tutorials')\n",
    "celltype = GETHydraCellType.from_config(cfg)\n",
    "celltype"
   ]
  },
  {
   "cell_type": "code",
   "execution_count": 29,
   "metadata": {},
   "outputs": [
    {
     "data": {
      "text/plain": [
       "<seaborn.matrix.ClusterGrid at 0x3416aabf0>"
      ]
     },
     "execution_count": 29,
     "metadata": {},
     "output_type": "execute_result"
    },
    {
     "data": {
      "image/png": "[encoded data removed]",
      "text/plain": [
       "<Figure size 300x300 with 4 Axes>"
      ]
     },
     "metadata": {},
     "output_type": "display_data"
    }
   ],
   "source": [
    "import numpy as np\n",
    "import seaborn as sns\n",
    "\n",
    "d = celltype.gene_by_motif.data.T\n",
    "top_idx_for_each_column = []\n",
    "for i in range(d.shape[1]):\n",
    "    top_idx_for_each_column.append(d.iloc[:,i].abs().sort_values(ascending=False).index[:5])\n",
    "top_idx_for_each_column = np.unique(top_idx_for_each_column)\n",
    "sns.clustermap(d.loc[top_idx_for_each_column], center=0, cmap='RdBu_r', figsize=(3,3))"
   ]
  },
  {
   "cell_type": "code",
   "execution_count": 73,
   "metadata": {},
   "outputs": [
    {
     "data": {
      "text/plain": [
       "NFY              0.000294\n",
       "TBX/3            0.000311\n",
       "E2F/3            0.000349\n",
       "ZNF320           0.000404\n",
       "ZNF143           0.000538\n",
       "TATA             0.000555\n",
       "NRF1             0.000622\n",
       "KLF/SP/1         0.000741\n",
       "Accessibility    0.001023\n",
       "E2F/2            0.001256\n",
       "dtype: float32"
      ]
     },
     "execution_count": 73,
     "metadata": {},
     "output_type": "execute_result"
    }
   ],
   "source": [
    "celltype.get_gene_jacobian_summary('MYC', axis='motif').sort_values().tail(10)"
   ]
  },
  {
   "cell_type": "code",
   "execution_count": 42,
   "metadata": {},
   "outputs": [
    {
     "data": {
      "text/plain": [
       "(<Figure size 1000x200 with 1 Axes>,\n",
       " <Axes: xlabel='Genomic Position on Chromosome 8                          '>)"
      ]
     },
     "execution_count": 42,
     "metadata": {},
     "output_type": "execute_result"
    },
    {
     "data": {
      "image/png": "[encoded data removed]",
      "text/plain": [
       "<Figure size 1000x200 with 1 Axes>"
      ]
     },
     "metadata": {},
     "output_type": "display_data"
    }
   ],
   "source": [
    "GETHydraCellType.plot_region(celltype.get_gene_jacobian_summary('MYC', axis='region'))"
   ]
  },
  {
   "cell_type": "code",
   "execution_count": 43,
   "metadata": {},
   "outputs": [
    {
     "data": {
      "text/html": [
       "<div>\n",
       "<style scoped>\n",
       "    .dataframe tbody tr th:only-of-type {\n",
       "        vertical-align: middle;\n",
       "    }\n",
       "\n",
       "    .dataframe tbody tr th {\n",
       "        vertical-align: top;\n",
       "    }\n",
       "\n",
       "    .dataframe thead th {\n",
       "        text-align: right;\n",
       "    }\n",
       "</style>\n",
       "<table border=\"1\" class=\"dataframe\">\n",
       "  <thead>\n",
       "    <tr style=\"text-align: right;\">\n",
       "      <th></th>\n",
       "      <th>index</th>\n",
       "      <th>Chromosome</th>\n",
       "      <th>Start</th>\n",
       "      <th>End</th>\n",
       "      <th>Score</th>\n",
       "    </tr>\n",
       "  </thead>\n",
       "  <tbody>\n",
       "    <tr>\n",
       "      <th>106</th>\n",
       "      <td>106</td>\n",
       "      <td>chr8</td>\n",
       "      <td>127738528</td>\n",
       "      <td>127738928</td>\n",
       "      <td>0.000141</td>\n",
       "    </tr>\n",
       "    <tr>\n",
       "      <th>0</th>\n",
       "      <td>0</td>\n",
       "      <td>chr8</td>\n",
       "      <td>124973496</td>\n",
       "      <td>124973896</td>\n",
       "      <td>0.000144</td>\n",
       "    </tr>\n",
       "    <tr>\n",
       "      <th>1</th>\n",
       "      <td>1</td>\n",
       "      <td>chr8</td>\n",
       "      <td>124998208</td>\n",
       "      <td>124998608</td>\n",
       "      <td>0.000152</td>\n",
       "    </tr>\n",
       "    <tr>\n",
       "      <th>171</th>\n",
       "      <td>171</td>\n",
       "      <td>chr8</td>\n",
       "      <td>129998824</td>\n",
       "      <td>129999224</td>\n",
       "      <td>0.000167</td>\n",
       "    </tr>\n",
       "    <tr>\n",
       "      <th>188</th>\n",
       "      <td>188</td>\n",
       "      <td>chr8</td>\n",
       "      <td>130333280</td>\n",
       "      <td>130333680</td>\n",
       "      <td>0.000169</td>\n",
       "    </tr>\n",
       "    <tr>\n",
       "      <th>169</th>\n",
       "      <td>169</td>\n",
       "      <td>chr8</td>\n",
       "      <td>129983656</td>\n",
       "      <td>129984056</td>\n",
       "      <td>0.000171</td>\n",
       "    </tr>\n",
       "    <tr>\n",
       "      <th>23</th>\n",
       "      <td>23</td>\n",
       "      <td>chr8</td>\n",
       "      <td>125413488</td>\n",
       "      <td>125413888</td>\n",
       "      <td>0.000176</td>\n",
       "    </tr>\n",
       "    <tr>\n",
       "      <th>25</th>\n",
       "      <td>25</td>\n",
       "      <td>chr8</td>\n",
       "      <td>125427072</td>\n",
       "      <td>125427472</td>\n",
       "      <td>0.000231</td>\n",
       "    </tr>\n",
       "    <tr>\n",
       "      <th>190</th>\n",
       "      <td>190</td>\n",
       "      <td>chr8</td>\n",
       "      <td>130357400</td>\n",
       "      <td>130357800</td>\n",
       "      <td>0.000269</td>\n",
       "    </tr>\n",
       "    <tr>\n",
       "      <th>100</th>\n",
       "      <td>100</td>\n",
       "      <td>chr8</td>\n",
       "      <td>127735128</td>\n",
       "      <td>127735528</td>\n",
       "      <td>0.007869</td>\n",
       "    </tr>\n",
       "  </tbody>\n",
       "</table>\n",
       "</div>"
      ],
      "text/plain": [
       "     index                      Chromosome      Start        End     Score\n",
       "106    106  chr8                            127738528  127738928  0.000141\n",
       "0        0  chr8                            124973496  124973896  0.000144\n",
       "1        1  chr8                            124998208  124998608  0.000152\n",
       "171    171  chr8                            129998824  129999224  0.000167\n",
       "188    188  chr8                            130333280  130333680  0.000169\n",
       "169    169  chr8                            129983656  129984056  0.000171\n",
       "23      23  chr8                            125413488  125413888  0.000176\n",
       "25      25  chr8                            125427072  125427472  0.000231\n",
       "190    190  chr8                            130357400  130357800  0.000269\n",
       "100    100  chr8                            127735128  127735528  0.007869"
      ]
     },
     "execution_count": 43,
     "metadata": {},
     "output_type": "execute_result"
    }
   ],
   "source": [
    "celltype.get_gene_jacobian_summary('MYC', axis='region').sort_values('Score').tail(10)"
   ]
  },
  {
   "cell_type": "code",
   "execution_count": 80,
   "metadata": {},
   "outputs": [
    {
     "data": {
      "text/plain": [
       "E2F/3           -0.057657\n",
       "Accessibility   -0.045304\n",
       "NR/18           -0.031027\n",
       "ZNF320          -0.029208\n",
       "ZNF324          -0.024562\n",
       "                   ...   \n",
       "ZNF554           0.030869\n",
       "KLF/SP/1         0.040352\n",
       "ZNF143           0.053678\n",
       "E2F/2            0.072658\n",
       "TATA             0.104744\n",
       "Name: 100, Length: 282, dtype: object"
      ]
     },
     "execution_count": 80,
     "metadata": {},
     "output_type": "execute_result"
    }
   ],
   "source": [
    "celltype.get_gene_jacobian('MYC', multiply_input=True)[2].data[0:200].query('Start==127735128').T.iloc[6:, 0].sort_values()"
   ]
  },
  {
   "cell_type": "code",
   "execution_count": 6,
   "metadata": {},
   "outputs": [
    {
     "data": {
      "text/html": [
       "\n",
       "        <iframe\n",
       "            width=\"100%\"\n",
       "            height=\"840\"\n",
       "            src=\"file:///var/folders/hr/7w6915r54zl8ym4yk2g9lmcw0000gn/T/tmpb8xpu0uu.html\"\n",
       "            frameborder=\"0\"\n",
       "            allowfullscreen\n",
       "            \n",
       "        ></iframe>\n",
       "        "
      ],
      "text/plain": [
       "<IPython.lib.display.IFrame at 0x103d939a0>"
      ]
     },
     "metadata": {},
     "output_type": "display_data"
    }
   ],
   "source": []
  },
  {
   "cell_type": "code",
   "execution_count": 7,
   "metadata": {},
   "outputs": [],
   "source": [
    "viz.save_html('test.html')"
   ]
  },
  {
   "cell_type": "code",
   "execution_count": null,
   "metadata": {},
   "outputs": [],
   "source": []
  }
 ],
 "metadata": {
  "language_info": {
   "codemirror_mode": {
    "name": "ipython",
    "version": 3
   },
   "file_extension": ".py",
   "mimetype": "text/x-python",
   "name": "python",
   "nbconvert_exporter": "python",
   "pygments_lexer": "ipython3",
   "version": 3
  }
 },
 "nbformat": 4,
 "nbformat_minor": 2
}
