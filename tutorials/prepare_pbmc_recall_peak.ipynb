{
 "cells": [
  {
   "cell_type": "code",
   "execution_count": 1,
   "metadata": {},
   "outputs": [
    {
     "name": "stdout",
     "output_type": "stream",
     "text": [
      "gcell currently using annotation directory: /home/xf2217/.gcell_data/annotations\n"
     ]
    }
   ],
   "source": [
    "#%%\n",
    "from pathlib import Path\n",
    "\n",
    "import numpy as np\n",
    "import snapatac2 as snap\n",
    "from gcell._settings import get_setting\n",
    "\n",
    "annotation_dir = get_setting('annotation_dir')\n",
    "print(\"gcell currently using annotation directory:\", annotation_dir)\n"
   ]
  },
  {
   "cell_type": "markdown",
   "metadata": {},
   "source": [
    "# Data Preparation Tutorial from SnapATAC2 / Cell Ranger\n",
    "\n",
    "This tutorial demonstrates how to prepare single-cell multiome (RNA + ATAC) data for GET model training.\n",
    "\n",
    "We'll use the PBMC10k dataset from 10x Genomics as an example.\n",
    "\n",
    "\n",
    "\n",
    "## Overview:\n",
    "\n",
    "1. Process RNA data - normalize, filter for highly variable genes\n",
    "\n",
    "2. Process ATAC data - compute spectral embedding\n",
    "\n",
    "3. Filter for abundant cell types\n",
    "\n",
    "4. Generate peak accessibility and gene expression files for each cell type"
   ]
  },
  {
   "cell_type": "markdown",
   "metadata": {},
   "source": [
    "## 0. Download cellranger-ARC processed data from 10x\n",
    "```bash\n",
    "wget \"https://cf.10xgenomics.com/samples/cell-arc/2.0.0/pbmc_granulocyte_sorted_10k/pbmc_granulocyte_sorted_10k_filtered_feature_bc_matrix.h5\"\n",
    "wget \"https://cf.10xgenomics.com/samples/cell-arc/2.0.0/pbmc_granulocyte_sorted_10k/pbmc_granulocyte_sorted_10k_atac_fragments.tsv.gz\"\n",
    "wget \"https://cf.10xgenomics.com/samples/cell-arc/2.0.0/pbmc_granulocyte_sorted_10k/pbmc_granulocyte_sorted_10k_atac_fragments.tsv.gz.tbi\"\n",
    "wget \"https://cf.10xgenomics.com/samples/cell-arc/2.0.0/pbmc_granulocyte_sorted_10k/pbmc_granulocyte_sorted_10k_atac_peaks.bed\"\n",
    "wget \"http://catlas.org/catlas_downloads/humantissues/cCRE_hg38.tsv.gz\"\n",
    "```"
   ]
  },
  {
   "cell_type": "code",
   "execution_count": 2,
   "metadata": {},
   "outputs": [],
   "source": [
    "import pandas as pd\n",
    "from pyranges import PyRanges as pr\n",
    "\n",
    "cre = pd.read_csv('cCRE_hg38.tsv.gz', sep='\\t')\n",
    "cre = cre.rename(columns={'#Chromosome': 'Chromosome', 'hg38_Start': 'Start', 'hg38_End': 'End'})[['Chromosome', 'Start', 'End']]\n",
    "cre = pr(cre, int64=True).sort()"
   ]
  },
  {
   "cell_type": "code",
   "execution_count": 3,
   "metadata": {},
   "outputs": [
    {
     "name": "stderr",
     "output_type": "stream",
     "text": [
      "/home/xf2217/.local/share/hatch/env/virtual/get-model/3YXmUFLM/get-model/lib/python3.12/site-packages/anndata/_core/anndata.py:1756: UserWarning: Variable names are not unique. To make them unique, call `.var_names_make_unique`.\n",
      "  utils.warn_names_duplicates(\"var\")\n"
     ]
    },
    {
     "data": {
      "text/plain": [
       "AnnData object with n_obs × n_vars = 11898 × 180488\n",
       "    var: 'gene_ids', 'feature_types', 'genome', 'interval'"
      ]
     },
     "execution_count": 3,
     "metadata": {},
     "output_type": "execute_result"
    }
   ],
   "source": [
    "import scanpy as sc\n",
    "\n",
    "ad = sc.read_10x_h5('pbmc_granulocyte_sorted_10k_filtered_feature_bc_matrix.h5', gex_only=False)\n",
    "ad"
   ]
  },
  {
   "cell_type": "markdown",
   "metadata": {},
   "source": [
    "This hdf5 contains the count matrix for both gene expression and peak count.\n",
    "We can have a look at the peaks called by cellranger."
   ]
  },
  {
   "cell_type": "code",
   "execution_count": 10,
   "metadata": {},
   "outputs": [],
   "source": [
    "summits = pd.read_csv('pbmc_summits.bed', sep='\\t', header=None, names=['Chromosome', 'Start', 'End', 'Name', 'Score'])\n",
    "summits['Start'] = summits['Start'].astype(int)-200\n",
    "summits['End'] = summits['Start'].astype(int)+400\n",
    "summits=pr(summits[['Chromosome', 'Start', 'End']], int64=True).sort()"
   ]
  },
  {
   "cell_type": "markdown",
   "metadata": {},
   "source": [
    "> Note: For optimal zero-shot analysis, it is recommended to use a union set of peaks \n",
    "> from both the new dataset and the original training peak sets (i.e. the cre peaks \n",
    "> defined above) to minimize domain shift. However, in this tutorial we will simply \n",
    "> perform finetuning using the new peak set from the 10x PBMC multiome data.\n",
    "> The union peak set can be constructed as below. After that you should re-count the peak count\n",
    "> matrix using fragment file, and when write out cell-type specific peaks, ideally remove all non-accessible peaks in\n",
    "> each cell types."
   ]
  },
  {
   "cell_type": "code",
   "execution_count": 12,
   "metadata": {},
   "outputs": [
    {
     "data": {
      "text/html": [
       "<div>\n",
       "<style scoped>\n",
       "    .dataframe tbody tr th:only-of-type {\n",
       "        vertical-align: middle;\n",
       "    }\n",
       "\n",
       "    .dataframe tbody tr th {\n",
       "        vertical-align: top;\n",
       "    }\n",
       "\n",
       "    .dataframe thead th {\n",
       "        text-align: right;\n",
       "    }\n",
       "</style>\n",
       "<table border=\"1\" class=\"dataframe\">\n",
       "  <thead>\n",
       "    <tr style=\"text-align: right;\">\n",
       "      <th></th>\n",
       "      <th>Chromosome</th>\n",
       "      <th>Start</th>\n",
       "      <th>End</th>\n",
       "    </tr>\n",
       "  </thead>\n",
       "  <tbody>\n",
       "    <tr>\n",
       "      <th>30</th>\n",
       "      <td>chr1</td>\n",
       "      <td>9955</td>\n",
       "      <td>10355</td>\n",
       "    </tr>\n",
       "    <tr>\n",
       "      <th>31</th>\n",
       "      <td>chr1</td>\n",
       "      <td>29163</td>\n",
       "      <td>29563</td>\n",
       "    </tr>\n",
       "    <tr>\n",
       "      <th>32</th>\n",
       "      <td>chr1</td>\n",
       "      <td>79215</td>\n",
       "      <td>79615</td>\n",
       "    </tr>\n",
       "    <tr>\n",
       "      <th>33</th>\n",
       "      <td>chr1</td>\n",
       "      <td>102755</td>\n",
       "      <td>103155</td>\n",
       "    </tr>\n",
       "    <tr>\n",
       "      <th>34</th>\n",
       "      <td>chr1</td>\n",
       "      <td>115530</td>\n",
       "      <td>115930</td>\n",
       "    </tr>\n",
       "    <tr>\n",
       "      <th>...</th>\n",
       "      <td>...</td>\n",
       "      <td>...</td>\n",
       "      <td>...</td>\n",
       "    </tr>\n",
       "    <tr>\n",
       "      <th>1160226</th>\n",
       "      <td>chrX</td>\n",
       "      <td>156001554</td>\n",
       "      <td>156001954</td>\n",
       "    </tr>\n",
       "    <tr>\n",
       "      <th>1160227</th>\n",
       "      <td>chrX</td>\n",
       "      <td>156003817</td>\n",
       "      <td>156004217</td>\n",
       "    </tr>\n",
       "    <tr>\n",
       "      <th>1160228</th>\n",
       "      <td>chrX</td>\n",
       "      <td>156006466</td>\n",
       "      <td>156006866</td>\n",
       "    </tr>\n",
       "    <tr>\n",
       "      <th>1160229</th>\n",
       "      <td>chrX</td>\n",
       "      <td>156029231</td>\n",
       "      <td>156029631</td>\n",
       "    </tr>\n",
       "    <tr>\n",
       "      <th>1160230</th>\n",
       "      <td>chrX</td>\n",
       "      <td>156030075</td>\n",
       "      <td>156030475</td>\n",
       "    </tr>\n",
       "  </tbody>\n",
       "</table>\n",
       "<p>1160196 rows × 3 columns</p>\n",
       "</div>"
      ],
      "text/plain": [
       "        Chromosome      Start        End\n",
       "30            chr1       9955      10355\n",
       "31            chr1      29163      29563\n",
       "32            chr1      79215      79615\n",
       "33            chr1     102755     103155\n",
       "34            chr1     115530     115930\n",
       "...            ...        ...        ...\n",
       "1160226       chrX  156001554  156001954\n",
       "1160227       chrX  156003817  156004217\n",
       "1160228       chrX  156006466  156006866\n",
       "1160229       chrX  156029231  156029631\n",
       "1160230       chrX  156030075  156030475\n",
       "\n",
       "[1160196 rows x 3 columns]"
      ]
     },
     "execution_count": 12,
     "metadata": {},
     "output_type": "execute_result"
    }
   ],
   "source": [
    "\n",
    "# peak / cre + cre \n",
    "# find all peaks that don't overlap with cre; -> non_overlap_peaks\n",
    "non_overlap_peaks = summits.overlap(cre, invert=True)\n",
    "# concat with cre and sort\n",
    "total_peaks = pd.concat([non_overlap_peaks.df, cre.df], ignore_index=True)\n",
    "total_peaks = pr(total_peaks, int64=True).sort()\n",
    "# remove chromosome M, Y and those not start with chr\n",
    "total_peaks = total_peaks.df.query('Chromosome.str.startswith(\"chr\") & ~Chromosome.str.endswith(\"M\") & ~Chromosome.str.endswith(\"Y\") & ~Chromosome.str.startswith(\"chrUn\")')\n",
    "total_peaks\n"
   ]
  },
  {
   "cell_type": "code",
   "execution_count": 18,
   "metadata": {},
   "outputs": [],
   "source": [
    "# read fragment file with snapatac2\n",
    "import snapatac2 as snap\n",
    "\n",
    "data = snap.pp.import_fragments(\n",
    "    'pbmc_granulocyte_sorted_10k_atac_fragments.tsv.gz',\n",
    "    chrom_sizes=snap.genome.hg38,\n",
    "    file=\"pbmc.h5ad\",  # Optional\n",
    "    sorted_by_barcode=False,\n",
    ")\n"
   ]
  },
  {
   "cell_type": "code",
   "execution_count": 21,
   "metadata": {},
   "outputs": [],
   "source": [
    "# write total_peaks to bed\n",
    "total_peaks.to_csv('total_peaks.bed', sep='\\t', index=False, header=False)"
   ]
  },
  {
   "cell_type": "code",
   "execution_count": 24,
   "metadata": {},
   "outputs": [
    {
     "name": "stderr",
     "output_type": "stream",
     "text": [
      "/home/xf2217/.local/share/hatch/env/virtual/get-model/3YXmUFLM/get-model/lib/python3.12/site-packages/anndata/_core/aligned_df.py:68: ImplicitModificationWarning: Transforming to str index.\n",
      "  warnings.warn(\"Transforming to str index.\", ImplicitModificationWarning)\n"
     ]
    },
    {
     "data": {
      "text/plain": [
       "AnnData object with n_obs × n_vars = 19227 × 1160196\n",
       "    obs: 'n_fragment', 'frac_dup', 'frac_mito'"
      ]
     },
     "execution_count": 24,
     "metadata": {},
     "output_type": "execute_result"
    }
   ],
   "source": [
    "# count peaks\n",
    "peak_data = snap.pp.make_peak_matrix(data, peak_file='total_peaks.bed')"
   ]
  },
  {
   "cell_type": "code",
   "execution_count": 26,
   "metadata": {},
   "outputs": [
    {
     "data": {
      "text/plain": [
       "AnnData object with n_obs × n_vars = 19227 × 1160196\n",
       "    obs: 'n_fragment', 'frac_dup', 'frac_mito'"
      ]
     },
     "execution_count": 26,
     "metadata": {},
     "output_type": "execute_result"
    }
   ],
   "source": [
    "peak_data"
   ]
  },
  {
   "cell_type": "markdown",
   "metadata": {},
   "source": [
    "## 1. Cell type assignment\n",
    "\n",
    "- Load RNA data from processed PBMC10k dataset and borrow the labels. If you have your own cell type labels on the data, skip this step.\n",
    "\n",
    "- Select top 3000 highly variable genes and perform UMAP to cross check with assigned labels.\n"
   ]
  },
  {
   "cell_type": "code",
   "execution_count": 44,
   "metadata": {},
   "outputs": [],
   "source": [
    "# %%\n",
    "# read rna data\n",
    "if not Path('rna.h5ad').exists():\n",
    "    rna = snap.read(snap.datasets.pbmc10k_multiome(modality='RNA'), backed=None)\n",
    "    sc.pp.highly_variable_genes(rna, flavor='seurat_v3', n_top_genes=3000)\n",
    "    rna_filtered = rna[:, rna.var.highly_variable]\n",
    "    sc.pp.normalize_total(rna_filtered, target_sum=1e4)\n",
    "    sc.pp.log1p(rna_filtered)\n",
    "    snap.tl.spectral(rna_filtered, features=None)\n",
    "    snap.tl.umap(rna_filtered)\n",
    "    rna_filtered.write('rna.h5ad')\n",
    "else:\n",
    "    rna_filtered = sc.read('rna.h5ad')"
   ]
  },
  {
   "cell_type": "markdown",
   "metadata": {},
   "source": [
    "Here, I'm going to use the cell type labels from preprocessed snapatac2 object."
   ]
  },
  {
   "cell_type": "code",
   "execution_count": 45,
   "metadata": {},
   "outputs": [],
   "source": [
    "ad = ad[ad.obs.index.isin(rna_filtered.obs.index.values)]"
   ]
  },
  {
   "cell_type": "code",
   "execution_count": 48,
   "metadata": {},
   "outputs": [
    {
     "name": "stderr",
     "output_type": "stream",
     "text": [
      "/tmp/ipykernel_133430/3584719171.py:2: ImplicitModificationWarning: Trying to modify attribute `.obs` of view, initializing view as actual.\n",
      "  peak_data.obs['cell_type'] = peak_data.obs.index.map(barcode_to_celltype)\n",
      "/tmp/ipykernel_133430/3584719171.py:3: ImplicitModificationWarning: Trying to modify attribute `.obs` of view, initializing view as actual.\n",
      "  ad.obs['cell_type'] = ad.obs.index.map(barcode_to_celltype)\n",
      "/home/xf2217/.local/share/hatch/env/virtual/get-model/3YXmUFLM/get-model/lib/python3.12/site-packages/anndata/_core/anndata.py:1756: UserWarning: Variable names are not unique. To make them unique, call `.var_names_make_unique`.\n",
      "  utils.warn_names_duplicates(\"var\")\n",
      "/home/xf2217/.local/share/hatch/env/virtual/get-model/3YXmUFLM/get-model/lib/python3.12/site-packages/anndata/_core/anndata.py:1756: UserWarning: Variable names are not unique. To make them unique, call `.var_names_make_unique`.\n",
      "  utils.warn_names_duplicates(\"var\")\n"
     ]
    }
   ],
   "source": [
    "barcode_to_celltype = rna_filtered.obs.to_dict()['cell_type']\n",
    "peak_data.obs['cell_type'] = peak_data.obs.index.map(barcode_to_celltype)\n",
    "ad.obs['cell_type'] = ad.obs.index.map(barcode_to_celltype)\n"
   ]
  },
  {
   "cell_type": "code",
   "execution_count": 30,
   "metadata": {},
   "outputs": [
    {
     "data": {
      "text/html": [
       "<div>\n",
       "<style scoped>\n",
       "    .dataframe tbody tr th:only-of-type {\n",
       "        vertical-align: middle;\n",
       "    }\n",
       "\n",
       "    .dataframe tbody tr th {\n",
       "        vertical-align: top;\n",
       "    }\n",
       "\n",
       "    .dataframe thead th {\n",
       "        text-align: right;\n",
       "    }\n",
       "</style>\n",
       "<table border=\"1\" class=\"dataframe\">\n",
       "  <thead>\n",
       "    <tr style=\"text-align: right;\">\n",
       "      <th></th>\n",
       "      <th>n_fragment</th>\n",
       "      <th>frac_dup</th>\n",
       "      <th>frac_mito</th>\n",
       "      <th>cell_type</th>\n",
       "    </tr>\n",
       "  </thead>\n",
       "  <tbody>\n",
       "    <tr>\n",
       "      <th>AAACAGCCAAGGAATC-1</th>\n",
       "      <td>44055</td>\n",
       "      <td>0.430173</td>\n",
       "      <td>0.0</td>\n",
       "      <td>NaN</td>\n",
       "    </tr>\n",
       "    <tr>\n",
       "      <th>AAACAGCCAATCCCTT-1</th>\n",
       "      <td>17430</td>\n",
       "      <td>0.451921</td>\n",
       "      <td>0.0</td>\n",
       "      <td>CD4 TCM</td>\n",
       "    </tr>\n",
       "    <tr>\n",
       "      <th>AAACAGCCAATGCGCT-1</th>\n",
       "      <td>14893</td>\n",
       "      <td>0.407362</td>\n",
       "      <td>0.0</td>\n",
       "      <td>CD4 Naive</td>\n",
       "    </tr>\n",
       "    <tr>\n",
       "      <th>AAACAGCCACAAAGAC-1</th>\n",
       "      <td>246</td>\n",
       "      <td>0.004049</td>\n",
       "      <td>0.0</td>\n",
       "      <td>NaN</td>\n",
       "    </tr>\n",
       "    <tr>\n",
       "      <th>AAACAGCCACACTAAT-1</th>\n",
       "      <td>1079</td>\n",
       "      <td>0.441511</td>\n",
       "      <td>0.0</td>\n",
       "      <td>NaN</td>\n",
       "    </tr>\n",
       "  </tbody>\n",
       "</table>\n",
       "</div>"
      ],
      "text/plain": [
       "                    n_fragment  frac_dup  frac_mito  cell_type\n",
       "AAACAGCCAAGGAATC-1       44055  0.430173        0.0        NaN\n",
       "AAACAGCCAATCCCTT-1       17430  0.451921        0.0    CD4 TCM\n",
       "AAACAGCCAATGCGCT-1       14893  0.407362        0.0  CD4 Naive\n",
       "AAACAGCCACAAAGAC-1         246  0.004049        0.0        NaN\n",
       "AAACAGCCACACTAAT-1        1079  0.441511        0.0        NaN"
      ]
     },
     "execution_count": 30,
     "metadata": {},
     "output_type": "execute_result"
    }
   ],
   "source": [
    "peak_data.obs.head()"
   ]
  },
  {
   "cell_type": "code",
   "execution_count": 31,
   "metadata": {},
   "outputs": [
    {
     "data": {
      "text/plain": [
       "View of AnnData object with n_obs × n_vars = 9631 × 1160196\n",
       "    obs: 'n_fragment', 'frac_dup', 'frac_mito', 'cell_type'"
      ]
     },
     "execution_count": 31,
     "metadata": {},
     "output_type": "execute_result"
    }
   ],
   "source": [
    "# drop barcode with no cell type\n",
    "peak_data = peak_data[peak_data.obs.cell_type.notna()]\n",
    "peak_data"
   ]
  },
  {
   "cell_type": "code",
   "execution_count": 49,
   "metadata": {},
   "outputs": [
    {
     "data": {
      "text/html": [
       "<div>\n",
       "<style scoped>\n",
       "    .dataframe tbody tr th:only-of-type {\n",
       "        vertical-align: middle;\n",
       "    }\n",
       "\n",
       "    .dataframe tbody tr th {\n",
       "        vertical-align: top;\n",
       "    }\n",
       "\n",
       "    .dataframe thead th {\n",
       "        text-align: right;\n",
       "    }\n",
       "</style>\n",
       "<table border=\"1\" class=\"dataframe\">\n",
       "  <thead>\n",
       "    <tr style=\"text-align: right;\">\n",
       "      <th></th>\n",
       "      <th>cell_type</th>\n",
       "    </tr>\n",
       "  </thead>\n",
       "  <tbody>\n",
       "    <tr>\n",
       "      <th>AAACAGCCAATCCCTT-1</th>\n",
       "      <td>CD4 TCM</td>\n",
       "    </tr>\n",
       "    <tr>\n",
       "      <th>AAACAGCCAATGCGCT-1</th>\n",
       "      <td>CD4 Naive</td>\n",
       "    </tr>\n",
       "    <tr>\n",
       "      <th>AAACAGCCACCAACCG-1</th>\n",
       "      <td>CD8 Naive</td>\n",
       "    </tr>\n",
       "    <tr>\n",
       "      <th>AAACAGCCAGGATAAC-1</th>\n",
       "      <td>CD4 Naive</td>\n",
       "    </tr>\n",
       "    <tr>\n",
       "      <th>AAACAGCCAGTTTACG-1</th>\n",
       "      <td>CD4 TCM</td>\n",
       "    </tr>\n",
       "    <tr>\n",
       "      <th>...</th>\n",
       "      <td>...</td>\n",
       "    </tr>\n",
       "    <tr>\n",
       "      <th>TTTGTTGGTGACATGC-1</th>\n",
       "      <td>CD8 Naive</td>\n",
       "    </tr>\n",
       "    <tr>\n",
       "      <th>TTTGTTGGTGTTAAAC-1</th>\n",
       "      <td>CD8 Naive</td>\n",
       "    </tr>\n",
       "    <tr>\n",
       "      <th>TTTGTTGGTTAGGATT-1</th>\n",
       "      <td>NK</td>\n",
       "    </tr>\n",
       "    <tr>\n",
       "      <th>TTTGTTGGTTGGTTAG-1</th>\n",
       "      <td>CD4 TCM</td>\n",
       "    </tr>\n",
       "    <tr>\n",
       "      <th>TTTGTTGGTTTGCAGA-1</th>\n",
       "      <td>CD8 TEM_1</td>\n",
       "    </tr>\n",
       "  </tbody>\n",
       "</table>\n",
       "<p>9627 rows × 1 columns</p>\n",
       "</div>"
      ],
      "text/plain": [
       "                    cell_type\n",
       "AAACAGCCAATCCCTT-1    CD4 TCM\n",
       "AAACAGCCAATGCGCT-1  CD4 Naive\n",
       "AAACAGCCACCAACCG-1  CD8 Naive\n",
       "AAACAGCCAGGATAAC-1  CD4 Naive\n",
       "AAACAGCCAGTTTACG-1    CD4 TCM\n",
       "...                       ...\n",
       "TTTGTTGGTGACATGC-1  CD8 Naive\n",
       "TTTGTTGGTGTTAAAC-1  CD8 Naive\n",
       "TTTGTTGGTTAGGATT-1         NK\n",
       "TTTGTTGGTTGGTTAG-1    CD4 TCM\n",
       "TTTGTTGGTTTGCAGA-1  CD8 TEM_1\n",
       "\n",
       "[9627 rows x 1 columns]"
      ]
     },
     "execution_count": 49,
     "metadata": {},
     "output_type": "execute_result"
    }
   ],
   "source": [
    "ad_rna = ad[:, np.where(ad.var.feature_types == 'Gene Expression')[0]]\n",
    "ad_rna.obs"
   ]
  },
  {
   "cell_type": "markdown",
   "metadata": {},
   "source": [
    "It seems the cell types match well with the data. So now let's collect the ATAC object and look at library sizes of different cell types. Note that if you have a very densely sampled dataset, you can also perform metacell analysis and sample pseudobulk with a consistent library size."
   ]
  },
  {
   "cell_type": "code",
   "execution_count": 33,
   "metadata": {},
   "outputs": [
    {
     "data": {
      "text/plain": [
       "View of AnnData object with n_obs × n_vars = 9631 × 1160196\n",
       "    obs: 'n_fragment', 'frac_dup', 'frac_mito', 'cell_type'"
      ]
     },
     "execution_count": 33,
     "metadata": {},
     "output_type": "execute_result"
    }
   ],
   "source": [
    "ad_atac = peak_data\n",
    "ad_atac"
   ]
  },
  {
   "cell_type": "markdown",
   "metadata": {},
   "source": [
    "We filter for cell types with >100 cells and at least 3M library size.\n",
    "\n",
    "The selected cell types will be used for training GET models."
   ]
  },
  {
   "cell_type": "code",
   "execution_count": 34,
   "metadata": {},
   "outputs": [
    {
     "name": "stdout",
     "output_type": "stream",
     "text": [
      "The following cell types have more than 100 cells and library size > 3M, adding them to celltype_for_modeling\n",
      "CD14 Mono number of cells: 2554, library size: 41041559\n",
      "CD16 Mono number of cells: 442, library size: 6647422\n",
      "CD4 Naive number of cells: 1382, library size: 18945325\n",
      "CD4 TCM number of cells: 1113, library size: 15813376\n",
      "CD4 TEM number of cells: 286, library size: 4428458\n",
      "CD8 Naive number of cells: 1354, library size: 19788755\n",
      "CD8 TEM_1 number of cells: 322, library size: 4603012\n",
      "CD8 TEM_2 number of cells: 315, library size: 4012385\n",
      "Intermediate B number of cells: 300, library size: 5414070\n",
      "Memory B number of cells: 298, library size: 4618795\n",
      "NK number of cells: 403, library size: 5621185\n",
      "cDC number of cells: 180, library size: 3968421\n"
     ]
    }
   ],
   "source": [
    "# %%\n",
    "\n",
    "cell_number = ad_atac.obs.groupby('cell_type', observed=False).size().to_dict()\n",
    "print(\"The following cell types have more than 100 cells and library size > 3M, adding them to celltype_for_modeling\")\n",
    "celltype_for_modeling = []\n",
    "for cell_type in cell_number:\n",
    "    if cell_number[cell_type] > 100:\n",
    "        celltype_for_modeling.append(cell_type)\n",
    "        libsize = int(ad_atac[ad_atac.obs.cell_type == cell_type].X.sum())\n",
    "        if libsize > 3000000:\n",
    "            print(f\"{cell_type} number of cells: {cell_number[cell_type]}, library size: {libsize}\")"
   ]
  },
  {
   "cell_type": "markdown",
   "metadata": {},
   "source": [
    "## 2. Export training data\n",
    "For each abundant cell type, we'll generate:\n",
    "1. Peak accessibility file (.atac.bed) containing:\n",
    "   - Peak coordinates (chr, start, end)\n",
    "   - Normalized accessibility scores (aCPM, $10^5$ scale factor)\n",
    "2. Gene expression file (.rna.csv) containing:\n",
    "   - Gene names\n",
    "   - Normalized expression values (TPM, $10^6$ scale factor)\n"
   ]
  },
  {
   "cell_type": "code",
   "execution_count": 35,
   "metadata": {},
   "outputs": [
    {
     "data": {
      "text/plain": [
       "(1160196, 3)"
      ]
     },
     "execution_count": 35,
     "metadata": {},
     "output_type": "execute_result"
    }
   ],
   "source": [
    "# This should be the same as the peaks variable defined above.\n",
    "import pandas as pd\n",
    "from pyranges import PyRanges as pr\n",
    "def get_peak_from_snapatac(atac: snap.AnnData):\n",
    "    \"\"\"\n",
    "    Get the peak names from the snapatac object.\n",
    "\n",
    "    Args:\n",
    "        atac: snapatac2 processed AnnData object\n",
    "\n",
    "    Returns:\n",
    "        peak_names: pandas DatasFrame with the peak names\n",
    "    \"\"\"\n",
    "    peak_names = pd.DataFrame(atac.var.index.str.split('[:-]').tolist(), columns=['Chromosome', 'Start', 'End'])\n",
    "    peak_names['Start'] = peak_names['Start'].astype(int)\n",
    "    peak_names['End'] = peak_names['End'].astype(int)\n",
    "    return peak_names\n",
    "\n",
    "peaks = get_peak_from_snapatac(ad_atac)\n",
    "peaks.shape"
   ]
  },
  {
   "cell_type": "code",
   "execution_count": 36,
   "metadata": {},
   "outputs": [],
   "source": [
    "# %%\n",
    "def get_peak_acpm_for_cell_type(atac: snap.AnnData, cell_type: str):\n",
    "    \"\"\"\n",
    "    Get the peak acpm for a given cell type.\n",
    "    \"\"\"\n",
    "    peaks = get_peak_from_snapatac(atac)\n",
    "    counts = np.array(atac[atac.obs.cell_type == cell_type].X.sum(0)).flatten()\n",
    "    acpm = np.log10(counts / counts.sum() * 1e5 + 1)\n",
    "    peaks['aCPM'] = acpm/acpm.max()\n",
    "    peaks = peaks.query('Chromosome.str.startswith(\"chr\") & ~Chromosome.str.endswith(\"M\") & ~Chromosome.str.endswith(\"Y\") & ~Chromosome.str.startswith(\"chrUn\")')\n",
    "    peaks = pr(peaks, int64=True).sort().df\n",
    "    return peaks"
   ]
  },
  {
   "cell_type": "markdown",
   "metadata": {},
   "source": [
    "Let's run the function above to save the peak with aCPM for all cell types. Note that here we use the common peak set for all cell types. Later in the dataset we will be able to filter out peaks with no accessibility for each cell type."
   ]
  },
  {
   "cell_type": "code",
   "execution_count": 37,
   "metadata": {},
   "outputs": [],
   "source": [
    "# %%\n",
    "import os\n",
    "os.makedirs('preprocess_recall_peak/', exist_ok=True)\n",
    "for cell_type in celltype_for_modeling:\n",
    "    peaks = get_peak_acpm_for_cell_type(ad_atac, cell_type)\n",
    "    peaks.to_csv(f'preprocess_recall_peak/{cell_type.replace(\" \", \"_\").lower()}.atac.bed', sep='\\t', index=False, header=False)"
   ]
  },
  {
   "cell_type": "code",
   "execution_count": 38,
   "metadata": {},
   "outputs": [
    {
     "data": {
      "text/plain": [
       "<Axes: xlabel='aCPM', ylabel='length'>"
      ]
     },
     "execution_count": 38,
     "metadata": {},
     "output_type": "execute_result"
    },
    {
     "data": {
      "image/png": "[encoded data removed]",
      "text/plain": [
       "<Figure size 3840x3840 with 1 Axes>"
      ]
     },
     "metadata": {},
     "output_type": "display_data"
    }
   ],
   "source": [
    "peaks['length'] = peaks['End'] - peaks['Start']\n",
    "peaks.plot(y='length', x='aCPM', kind='scatter', s=1)"
   ]
  },
  {
   "cell_type": "markdown",
   "metadata": {},
   "source": [
    "Now let's save the RNA csv files."
   ]
  },
  {
   "cell_type": "code",
   "execution_count": 50,
   "metadata": {},
   "outputs": [],
   "source": [
    "# %%\n",
    "def get_rna_for_cell_type(rna: snap.AnnData, cell_type: str):\n",
    "    \"\"\"\n",
    "    Get the rna for a given cell type.\n",
    "    \"\"\"\n",
    "    counts = rna[rna.obs.cell_type == cell_type].X.sum(0)\n",
    "    counts = np.log10(counts / counts.sum() * 1e6 + 1)\n",
    "    counts = np.array(counts).flatten()\n",
    "    rna_tpm = pd.DataFrame(counts, columns=['TPM'])\n",
    "    rna_tpm['gene_name'] = rna.var.index\n",
    "    return rna_tpm[['gene_name', 'TPM']].sort_values(by='gene_name', ascending=True)"
   ]
  },
  {
   "cell_type": "code",
   "execution_count": 51,
   "metadata": {},
   "outputs": [
    {
     "data": {
      "text/html": [
       "<div>\n",
       "<style scoped>\n",
       "    .dataframe tbody tr th:only-of-type {\n",
       "        vertical-align: middle;\n",
       "    }\n",
       "\n",
       "    .dataframe tbody tr th {\n",
       "        vertical-align: top;\n",
       "    }\n",
       "\n",
       "    .dataframe thead th {\n",
       "        text-align: right;\n",
       "    }\n",
       "</style>\n",
       "<table border=\"1\" class=\"dataframe\">\n",
       "  <thead>\n",
       "    <tr style=\"text-align: right;\">\n",
       "      <th></th>\n",
       "      <th>cell_type</th>\n",
       "    </tr>\n",
       "  </thead>\n",
       "  <tbody>\n",
       "    <tr>\n",
       "      <th>AAACAGCCAATCCCTT-1</th>\n",
       "      <td>CD4 TCM</td>\n",
       "    </tr>\n",
       "    <tr>\n",
       "      <th>AAACAGCCAATGCGCT-1</th>\n",
       "      <td>CD4 Naive</td>\n",
       "    </tr>\n",
       "    <tr>\n",
       "      <th>AAACAGCCACCAACCG-1</th>\n",
       "      <td>CD8 Naive</td>\n",
       "    </tr>\n",
       "    <tr>\n",
       "      <th>AAACAGCCAGGATAAC-1</th>\n",
       "      <td>CD4 Naive</td>\n",
       "    </tr>\n",
       "    <tr>\n",
       "      <th>AAACAGCCAGTTTACG-1</th>\n",
       "      <td>CD4 TCM</td>\n",
       "    </tr>\n",
       "    <tr>\n",
       "      <th>...</th>\n",
       "      <td>...</td>\n",
       "    </tr>\n",
       "    <tr>\n",
       "      <th>TTTGTTGGTGACATGC-1</th>\n",
       "      <td>CD8 Naive</td>\n",
       "    </tr>\n",
       "    <tr>\n",
       "      <th>TTTGTTGGTGTTAAAC-1</th>\n",
       "      <td>CD8 Naive</td>\n",
       "    </tr>\n",
       "    <tr>\n",
       "      <th>TTTGTTGGTTAGGATT-1</th>\n",
       "      <td>NK</td>\n",
       "    </tr>\n",
       "    <tr>\n",
       "      <th>TTTGTTGGTTGGTTAG-1</th>\n",
       "      <td>CD4 TCM</td>\n",
       "    </tr>\n",
       "    <tr>\n",
       "      <th>TTTGTTGGTTTGCAGA-1</th>\n",
       "      <td>CD8 TEM_1</td>\n",
       "    </tr>\n",
       "  </tbody>\n",
       "</table>\n",
       "<p>9627 rows × 1 columns</p>\n",
       "</div>"
      ],
      "text/plain": [
       "                    cell_type\n",
       "AAACAGCCAATCCCTT-1    CD4 TCM\n",
       "AAACAGCCAATGCGCT-1  CD4 Naive\n",
       "AAACAGCCACCAACCG-1  CD8 Naive\n",
       "AAACAGCCAGGATAAC-1  CD4 Naive\n",
       "AAACAGCCAGTTTACG-1    CD4 TCM\n",
       "...                       ...\n",
       "TTTGTTGGTGACATGC-1  CD8 Naive\n",
       "TTTGTTGGTGTTAAAC-1  CD8 Naive\n",
       "TTTGTTGGTTAGGATT-1         NK\n",
       "TTTGTTGGTTGGTTAG-1    CD4 TCM\n",
       "TTTGTTGGTTTGCAGA-1  CD8 TEM_1\n",
       "\n",
       "[9627 rows x 1 columns]"
      ]
     },
     "execution_count": 51,
     "metadata": {},
     "output_type": "execute_result"
    }
   ],
   "source": [
    "ad_rna.obs"
   ]
  },
  {
   "cell_type": "code",
   "execution_count": 52,
   "metadata": {},
   "outputs": [],
   "source": [
    "#%%\n",
    "for cell_type in celltype_for_modeling:\n",
    "    rna_tpm = get_rna_for_cell_type(ad_rna, cell_type)\n",
    "    rna_tpm.to_csv(f'preprocess_recall_peak/{cell_type.replace(\" \", \"_\").lower()}.rna.csv', index=False)"
   ]
  },
  {
   "cell_type": "markdown",
   "metadata": {},
   "source": [
    "## 3. Query motifs and save data as zarr files."
   ]
  },
  {
   "cell_type": "code",
   "execution_count": 53,
   "metadata": {},
   "outputs": [
    {
     "name": "stdout",
     "output_type": "stream",
     "text": [
      "tabix (htslib) 1.21\n",
      "Copyright (C) 2024 Genome Research Ltd.\n"
     ]
    }
   ],
   "source": [
    "# NOTE: tabix has to be >= 1.17\n",
    "! tabix --version"
   ]
  },
  {
   "cell_type": "code",
   "execution_count": 54,
   "metadata": {},
   "outputs": [
    {
     "name": "stdout",
     "output_type": "stream",
     "text": [
      "gcell currently using annotation directory: /home/xf2217/.gcell_data/annotations\n"
     ]
    }
   ],
   "source": [
    "import os\n",
    "from pathlib import Path\n",
    "\n",
    "from gcell._settings import get_setting\n",
    "from preprocess_utils import (\n",
    "    add_atpm,\n",
    "    add_exp,\n",
    "    create_peak_motif,\n",
    "    download_motif,\n",
    "    get_motif,\n",
    "    query_motif,\n",
    ")\n",
    "\n",
    "annotation_dir = Path(get_setting('annotation_dir'))\n",
    "print(\"gcell currently using annotation directory:\", annotation_dir)"
   ]
  },
  {
   "cell_type": "markdown",
   "metadata": {},
   "source": [
    "### Download motif bed file\n",
    "\n",
    "This will download the non-redundant motif scanning results to `annotation_dir / \"hg38.archetype_motifs.v1.0.bed.gz\"`."
   ]
  },
  {
   "cell_type": "code",
   "execution_count": 55,
   "metadata": {},
   "outputs": [],
   "source": [
    "motif_bed_url = \"https://resources.altius.org/~jvierstra/projects/motif-clustering/releases/v1.0/hg38.archetype_motifs.v1.0.bed.gz\"\n",
    "motif_bed_index_url = \"https://resources.altius.org/~jvierstra/projects/motif-clustering/releases/v1.0/hg38.archetype_motifs.v1.0.bed.gz.tbi\"\n",
    "\n",
    "\n",
    "if (\n",
    "    motif_bed_url\n",
    "    and motif_bed_index_url\n",
    "    and not (\n",
    "        (annotation_dir / \"hg38.archetype_motifs.v1.0.bed.gz\").exists()\n",
    "        or (annotation_dir / \"hg38.archetype_motifs.v1.0.bed.gz.tbi\").exists()\n",
    "    )\n",
    "):\n",
    "    download_motif(motif_bed_url, motif_bed_index_url, motif_dir=annotation_dir)\n",
    "    motif_bed = str(annotation_dir / \"hg38.archetype_motifs.v1.0.bed.gz\")\n",
    "else:\n",
    "    motif_bed = str(annotation_dir / \"hg38.archetype_motifs.v1.0.bed.gz\")"
   ]
  },
  {
   "cell_type": "markdown",
   "metadata": {},
   "source": [
    "### Query motif"
   ]
  },
  {
   "cell_type": "code",
   "execution_count": 56,
   "metadata": {},
   "outputs": [
    {
     "name": "stdout",
     "output_type": "stream",
     "text": [
      "Peak motif extraction completed. Results saved in get_motif.bed\n"
     ]
    }
   ],
   "source": [
    "peak_bed = \"preprocess_recall_peak/cd4_naive.atac.bed\" # since all cell types share the same peak set, when querying motifs, we can just use one cell type to query motifs.\n",
    "peaks_motif = query_motif(peak_bed, motif_bed)\n",
    "get_motif_output = get_motif(peak_bed, peaks_motif)\n"
   ]
  },
  {
   "cell_type": "markdown",
   "metadata": {},
   "source": [
    "## 4. Create peak motif zarr file\n",
    "Create a peak x motif matrix stored in a zarr file. If you are working on multiple cell types with the same peak set, you can use the same peak bed and zarr file for all cell types."
   ]
  },
  {
   "cell_type": "code",
   "execution_count": 57,
   "metadata": {},
   "outputs": [
    {
     "name": "stdout",
     "output_type": "stream",
     "text": [
      "Peak motif data saved to preprocess_recall_peak/pbmc10k_multiome.zarr\n"
     ]
    }
   ],
   "source": [
    "create_peak_motif(get_motif_output, \"preprocess_recall_peak/pbmc10k_multiome.zarr\", peak_bed) # all cell types will later be added to the same zarr file as we use the same peak set.\n"
   ]
  },
  {
   "cell_type": "markdown",
   "metadata": {},
   "source": [
    "### Add aCPM data to region x motif matrix\n",
    "For each cell type, we will save it's aCPM values to the `pbmc10k_multiome.zarr/atpm/{celltype}/` folder"
   ]
  },
  {
   "cell_type": "code",
   "execution_count": 60,
   "metadata": {},
   "outputs": [],
   "source": [
    "\n",
    "# CD14 Mono number of cells: 2554, library size: 41041559\n",
    "# CD16 Mono number of cells: 442, library size: 6647422\n",
    "# CD4 Naive number of cells: 1382, library size: 18945325\n",
    "# CD4 TCM number of cells: 1113, library size: 15813376\n",
    "# CD4 TEM number of cells: 286, library size: 4428458\n",
    "# CD8 Naive number of cells: 1354, library size: 19788755\n",
    "# CD8 TEM_1 number of cells: 322, library size: 4603012\n",
    "# CD8 TEM_2 number of cells: 315, library size: 4012385\n",
    "# Intermediate B number of cells: 300, library size: 5414070\n",
    "# Memory B number of cells: 298, library size: 4618795\n",
    "# NK number of cells: 403, library size: 5621185\n",
    "# cDC number of cells: 180, library size: 3968421\n",
    "celltype_for_modeling = [\n",
    "    'cd14_mono',\n",
    "    'cd16_mono',\n",
    "    'cd4_naive',\n",
    "    'cd4_tcm',\n",
    "    'cd4_tem',\n",
    "    'cd8_naive',\n",
    "    'cd8_tem_1',\n",
    "    'cd8_tem_2',\n",
    "    'intermediate_b',\n",
    "    'memory_b',\n",
    "    'nk',\n",
    "    'cdc',\n",
    "    'gdt',\n",
    "    'treg',\n",
    " ]"
   ]
  },
  {
   "cell_type": "code",
   "execution_count": 61,
   "metadata": {},
   "outputs": [
    {
     "name": "stdout",
     "output_type": "stream",
     "text": [
      "        Chromosome      Start        End      aTPM                      Name\n",
      "0             chr1       9955      10355  0.012480           chr1:9955-10355\n",
      "1             chr1      29163      29563  0.001495          chr1:29163-29563\n",
      "2             chr1      79215      79615  0.000748          chr1:79215-79615\n",
      "3             chr1     102755     103155  0.001495        chr1:102755-103155\n",
      "4             chr1     115530     115930  0.002239        chr1:115530-115930\n",
      "...            ...        ...        ...       ...                       ...\n",
      "1160191       chrX  156001554  156001954  0.001495  chrX:156001554-156001954\n",
      "1160192       chrX  156003817  156004217  0.001495  chrX:156003817-156004217\n",
      "1160193       chrX  156006466  156006866  0.003723  chrX:156006466-156006866\n",
      "1160194       chrX  156029231  156029631  0.000000  chrX:156029231-156029631\n",
      "1160195       chrX  156030075  156030475  0.013198  chrX:156030075-156030475\n",
      "\n",
      "[1160196 rows x 5 columns]\n",
      "        Chromosome      Start        End      aTPM                      Name\n",
      "0             chr1       9955      10355  0.029383           chr1:9955-10355\n",
      "1             chr1      29163      29563  0.006050          chr1:29163-29563\n",
      "2             chr1      79215      79615  0.006050          chr1:79215-79615\n",
      "3             chr1     102755     103155  0.000000        chr1:102755-103155\n",
      "4             chr1     115530     115930  0.006050        chr1:115530-115930\n",
      "...            ...        ...        ...       ...                       ...\n",
      "1160191       chrX  156001554  156001954  0.006050  chrX:156001554-156001954\n",
      "1160192       chrX  156003817  156004217  0.012010  chrX:156003817-156004217\n",
      "1160193       chrX  156006466  156006866  0.000000  chrX:156006466-156006866\n",
      "1160194       chrX  156029231  156029631  0.000000  chrX:156029231-156029631\n",
      "1160195       chrX  156030075  156030475  0.035012  chrX:156030075-156030475\n",
      "\n",
      "[1160196 rows x 5 columns]\n",
      "        Chromosome      Start        End      aTPM                      Name\n",
      "0             chr1       9955      10355  0.015453           chr1:9955-10355\n",
      "1             chr1      29163      29563  0.003924          chr1:29163-29563\n",
      "2             chr1      79215      79615  0.000000          chr1:79215-79615\n",
      "3             chr1     102755     103155  0.001967        chr1:102755-103155\n",
      "4             chr1     115530     115930  0.001967        chr1:115530-115930\n",
      "...            ...        ...        ...       ...                       ...\n",
      "1160191       chrX  156001554  156001954  0.003924  chrX:156001554-156001954\n",
      "1160192       chrX  156003817  156004217  0.001967  chrX:156003817-156004217\n",
      "1160193       chrX  156006466  156006866  0.000000  chrX:156006466-156006866\n",
      "1160194       chrX  156029231  156029631  0.000000  chrX:156029231-156029631\n",
      "1160195       chrX  156030075  156030475  0.013556  chrX:156030075-156030475\n",
      "\n",
      "[1160196 rows x 5 columns]\n",
      "        Chromosome      Start        End      aTPM                      Name\n",
      "0             chr1       9955      10355  0.049449           chr1:9955-10355\n",
      "1             chr1      29163      29563  0.000000          chr1:29163-29563\n",
      "2             chr1      79215      79615  0.000000          chr1:79215-79615\n",
      "3             chr1     102755     103155  0.000000        chr1:102755-103155\n",
      "4             chr1     115530     115930  0.000000        chr1:115530-115930\n",
      "...            ...        ...        ...       ...                       ...\n",
      "1160191       chrX  156001554  156001954  0.045211  chrX:156001554-156001954\n",
      "1160192       chrX  156003817  156004217  0.016443  chrX:156003817-156004217\n",
      "1160193       chrX  156006466  156006866  0.000000  chrX:156006466-156006866\n",
      "1160194       chrX  156029231  156029631  0.004771  chrX:156029231-156029631\n",
      "1160195       chrX  156030075  156030475  0.034403  chrX:156030075-156030475\n",
      "\n",
      "[1160196 rows x 5 columns]\n",
      "        Chromosome      Start        End      aTPM                      Name\n",
      "0             chr1       9955      10355  0.055632           chr1:9955-10355\n",
      "1             chr1      29163      29563  0.000000          chr1:29163-29563\n",
      "2             chr1      79215      79615  0.000000          chr1:79215-79615\n",
      "3             chr1     102755     103155  0.000000        chr1:102755-103155\n",
      "4             chr1     115530     115930  0.000000        chr1:115530-115930\n",
      "...            ...        ...        ...       ...                       ...\n",
      "1160191       chrX  156001554  156001954  0.032782  chrX:156001554-156001954\n",
      "1160192       chrX  156003817  156004217  0.008465  chrX:156003817-156004217\n",
      "1160193       chrX  156006466  156006866  0.000000  chrX:156006466-156006866\n",
      "1160194       chrX  156029231  156029631  0.000000  chrX:156029231-156029631\n",
      "1160195       chrX  156030075  156030475  0.008465  chrX:156030075-156030475\n",
      "\n",
      "[1160196 rows x 5 columns]\n",
      "        Chromosome      Start        End      aTPM                      Name\n",
      "0             chr1       9955      10355  0.015347           chr1:9955-10355\n",
      "1             chr1      29163      29563  0.000000          chr1:29163-29563\n",
      "2             chr1      79215      79615  0.000000          chr1:79215-79615\n",
      "3             chr1     102755     103155  0.000000        chr1:102755-103155\n",
      "4             chr1     115530     115930  0.000000        chr1:115530-115930\n",
      "...            ...        ...        ...       ...                       ...\n",
      "1160191       chrX  156001554  156001954  0.003894  chrX:156001554-156001954\n",
      "1160192       chrX  156003817  156004217  0.007749  chrX:156003817-156004217\n",
      "1160193       chrX  156006466  156006866  0.000000  chrX:156006466-156006866\n",
      "1160194       chrX  156029231  156029631  0.000000  chrX:156029231-156029631\n",
      "1160195       chrX  156030075  156030475  0.013461  chrX:156030075-156030475\n",
      "\n",
      "[1160196 rows x 5 columns]\n",
      "        Chromosome      Start        End      aTPM                      Name\n",
      "0             chr1       9955      10355  0.031601           chr1:9955-10355\n",
      "1             chr1      29163      29563  0.008151          chr1:29163-29563\n",
      "2             chr1      79215      79615  0.000000          chr1:79215-79615\n",
      "3             chr1     102755     103155  0.000000        chr1:102755-103155\n",
      "4             chr1     115530     115930  0.000000        chr1:115530-115930\n",
      "...            ...        ...        ...       ...                       ...\n",
      "1160191       chrX  156001554  156001954  0.016130  chrX:156001554-156001954\n",
      "1160192       chrX  156003817  156004217  0.008151  chrX:156003817-156004217\n",
      "1160193       chrX  156006466  156006866  0.000000  chrX:156006466-156006866\n",
      "1160194       chrX  156029231  156029631  0.000000  chrX:156029231-156029631\n",
      "1160195       chrX  156030075  156030475  0.016130  chrX:156030075-156030475\n",
      "\n",
      "[1160196 rows x 5 columns]\n",
      "        Chromosome      Start        End      aTPM                      Name\n",
      "0             chr1       9955      10355  0.074178           chr1:9955-10355\n",
      "1             chr1      29163      29563  0.000000          chr1:29163-29563\n",
      "2             chr1      79215      79615  0.000000          chr1:79215-79615\n",
      "3             chr1     102755     103155  0.000000        chr1:102755-103155\n",
      "4             chr1     115530     115930  0.000000        chr1:115530-115930\n",
      "...            ...        ...        ...       ...                       ...\n",
      "1160191       chrX  156001554  156001954  0.000000  chrX:156001554-156001954\n",
      "1160192       chrX  156003817  156004217  0.000000  chrX:156003817-156004217\n",
      "1160193       chrX  156006466  156006866  0.000000  chrX:156006466-156006866\n",
      "1160194       chrX  156029231  156029631  0.000000  chrX:156029231-156029631\n",
      "1160195       chrX  156030075  156030475  0.066639  chrX:156030075-156030475\n",
      "\n",
      "[1160196 rows x 5 columns]\n",
      "        Chromosome      Start        End      aTPM                      Name\n",
      "0             chr1       9955      10355  0.014639           chr1:9955-10355\n",
      "1             chr1      29163      29563  0.007386          chr1:29163-29563\n",
      "2             chr1      79215      79615  0.000000          chr1:79215-79615\n",
      "3             chr1     102755     103155  0.000000        chr1:102755-103155\n",
      "4             chr1     115530     115930  0.000000        chr1:115530-115930\n",
      "...            ...        ...        ...       ...                       ...\n",
      "1160191       chrX  156001554  156001954  0.000000  chrX:156001554-156001954\n",
      "1160192       chrX  156003817  156004217  0.000000  chrX:156003817-156004217\n",
      "1160193       chrX  156006466  156006866  0.000000  chrX:156006466-156006866\n",
      "1160194       chrX  156029231  156029631  0.000000  chrX:156029231-156029631\n",
      "1160195       chrX  156030075  156030475  0.007386  chrX:156030075-156030475\n",
      "\n",
      "[1160196 rows x 5 columns]\n",
      "        Chromosome      Start        End      aTPM                      Name\n",
      "0             chr1       9955      10355  0.016605           chr1:9955-10355\n",
      "1             chr1      29163      29563  0.000000          chr1:29163-29563\n",
      "2             chr1      79215      79615  0.000000          chr1:79215-79615\n",
      "3             chr1     102755     103155  0.000000        chr1:102755-103155\n",
      "4             chr1     115530     115930  0.000000        chr1:115530-115930\n",
      "...            ...        ...        ...       ...                       ...\n",
      "1160191       chrX  156001554  156001954  0.000000  chrX:156001554-156001954\n",
      "1160192       chrX  156003817  156004217  0.000000  chrX:156003817-156004217\n",
      "1160193       chrX  156006466  156006866  0.000000  chrX:156006466-156006866\n",
      "1160194       chrX  156029231  156029631  0.000000  chrX:156029231-156029631\n",
      "1160195       chrX  156030075  156030475  0.008391  chrX:156030075-156030475\n",
      "\n",
      "[1160196 rows x 5 columns]\n",
      "        Chromosome      Start        End      aTPM                      Name\n",
      "0             chr1       9955      10355  0.044574           chr1:9955-10355\n",
      "1             chr1      29163      29563  0.006697          chr1:29163-29563\n",
      "2             chr1      79215      79615  0.000000          chr1:79215-79615\n",
      "3             chr1     102755     103155  0.000000        chr1:102755-103155\n",
      "4             chr1     115530     115930  0.000000        chr1:115530-115930\n",
      "...            ...        ...        ...       ...                       ...\n",
      "1160191       chrX  156001554  156001954  0.019747  chrX:156001554-156001954\n",
      "1160192       chrX  156003817  156004217  0.000000  chrX:156003817-156004217\n",
      "1160193       chrX  156006466  156006866  0.000000  chrX:156006466-156006866\n",
      "1160194       chrX  156029231  156029631  0.006697  chrX:156029231-156029631\n",
      "1160195       chrX  156030075  156030475  0.044574  chrX:156030075-156030475\n",
      "\n",
      "[1160196 rows x 5 columns]\n",
      "        Chromosome      Start        End     aTPM                      Name\n",
      "0             chr1       9955      10355  0.03145           chr1:9955-10355\n",
      "1             chr1      29163      29563  0.00000          chr1:29163-29563\n",
      "2             chr1      79215      79615  0.00000          chr1:79215-79615\n",
      "3             chr1     102755     103155  0.00000        chr1:102755-103155\n",
      "4             chr1     115530     115930  0.00000        chr1:115530-115930\n",
      "...            ...        ...        ...      ...                       ...\n",
      "1160191       chrX  156001554  156001954  0.00000  chrX:156001554-156001954\n",
      "1160192       chrX  156003817  156004217  0.00000  chrX:156003817-156004217\n",
      "1160193       chrX  156006466  156006866  0.00000  chrX:156006466-156006866\n",
      "1160194       chrX  156029231  156029631  0.00000  chrX:156029231-156029631\n",
      "1160195       chrX  156030075  156030475  0.03145  chrX:156030075-156030475\n",
      "\n",
      "[1160196 rows x 5 columns]\n",
      "        Chromosome      Start        End      aTPM                      Name\n",
      "0             chr1       9955      10355  0.069358           chr1:9955-10355\n",
      "1             chr1      29163      29563  0.000000          chr1:29163-29563\n",
      "2             chr1      79215      79615  0.000000          chr1:79215-79615\n",
      "3             chr1     102755     103155  0.000000        chr1:102755-103155\n",
      "4             chr1     115530     115930  0.000000        chr1:115530-115930\n",
      "...            ...        ...        ...       ...                       ...\n",
      "1160191       chrX  156001554  156001954  0.000000  chrX:156001554-156001954\n",
      "1160192       chrX  156003817  156004217  0.000000  chrX:156003817-156004217\n",
      "1160193       chrX  156006466  156006866  0.000000  chrX:156006466-156006866\n",
      "1160194       chrX  156029231  156029631  0.000000  chrX:156029231-156029631\n",
      "1160195       chrX  156030075  156030475  0.036282  chrX:156030075-156030475\n",
      "\n",
      "[1160196 rows x 5 columns]\n",
      "        Chromosome      Start        End      aTPM                      Name\n",
      "0             chr1       9955      10355  0.065314           chr1:9955-10355\n",
      "1             chr1      29163      29563  0.000000          chr1:29163-29563\n",
      "2             chr1      79215      79615  0.000000          chr1:79215-79615\n",
      "3             chr1     102755     103155  0.000000        chr1:102755-103155\n",
      "4             chr1     115530     115930  0.000000        chr1:115530-115930\n",
      "...            ...        ...        ...       ...                       ...\n",
      "1160191       chrX  156001554  156001954  0.000000  chrX:156001554-156001954\n",
      "1160192       chrX  156003817  156004217  0.017476  chrX:156003817-156004217\n",
      "1160193       chrX  156006466  156006866  0.000000  chrX:156006466-156006866\n",
      "1160194       chrX  156029231  156029631  0.000000  chrX:156029231-156029631\n",
      "1160195       chrX  156030075  156030475  0.017476  chrX:156030075-156030475\n",
      "\n",
      "[1160196 rows x 5 columns]\n"
     ]
    }
   ],
   "source": [
    "for cell_type in celltype_for_modeling:\n",
    "    add_atpm(\n",
    "        \"preprocess_recall_peak/pbmc10k_multiome.zarr\",\n",
    "        f\"preprocess_recall_peak/{cell_type}.atac.bed\",\n",
    "        cell_type,\n",
    "    )"
   ]
  },
  {
   "cell_type": "markdown",
   "metadata": {},
   "source": [
    "### Add expression and TSS data to region x motif matrix"
   ]
  },
  {
   "cell_type": "code",
   "execution_count": 62,
   "metadata": {},
   "outputs": [
    {
     "name": "stderr",
     "output_type": "stream",
     "text": [
      "join: Strand data from other will be added as strand data to self.\n",
      "If this is undesired use the flag apply_strand_suffix=False.\n",
      "To turn off the warning set apply_strand_suffix to True or False.\n",
      "/home/xf2217/Projects/get_model.worktrees/refactor_with_hydra/tutorials/preprocess_utils.py:338: FutureWarning: The default of observed=False is deprecated and will be changed to True in a future version of pandas. Pass observed=False to retain current behavior or observed=True to adopt the future default and silence this warning.\n",
      "  .groupby([\"index\", \"Strand\"])\n",
      "join: Strand data from other will be added as strand data to self.\n",
      "If this is undesired use the flag apply_strand_suffix=False.\n",
      "To turn off the warning set apply_strand_suffix to True or False.\n",
      "/home/xf2217/Projects/get_model.worktrees/refactor_with_hydra/tutorials/preprocess_utils.py:338: FutureWarning: The default of observed=False is deprecated and will be changed to True in a future version of pandas. Pass observed=False to retain current behavior or observed=True to adopt the future default and silence this warning.\n",
      "  .groupby([\"index\", \"Strand\"])\n",
      "join: Strand data from other will be added as strand data to self.\n",
      "If this is undesired use the flag apply_strand_suffix=False.\n",
      "To turn off the warning set apply_strand_suffix to True or False.\n",
      "/home/xf2217/Projects/get_model.worktrees/refactor_with_hydra/tutorials/preprocess_utils.py:338: FutureWarning: The default of observed=False is deprecated and will be changed to True in a future version of pandas. Pass observed=False to retain current behavior or observed=True to adopt the future default and silence this warning.\n",
      "  .groupby([\"index\", \"Strand\"])\n",
      "join: Strand data from other will be added as strand data to self.\n",
      "If this is undesired use the flag apply_strand_suffix=False.\n",
      "To turn off the warning set apply_strand_suffix to True or False.\n",
      "/home/xf2217/Projects/get_model.worktrees/refactor_with_hydra/tutorials/preprocess_utils.py:338: FutureWarning: The default of observed=False is deprecated and will be changed to True in a future version of pandas. Pass observed=False to retain current behavior or observed=True to adopt the future default and silence this warning.\n",
      "  .groupby([\"index\", \"Strand\"])\n",
      "join: Strand data from other will be added as strand data to self.\n",
      "If this is undesired use the flag apply_strand_suffix=False.\n",
      "To turn off the warning set apply_strand_suffix to True or False.\n",
      "/home/xf2217/Projects/get_model.worktrees/refactor_with_hydra/tutorials/preprocess_utils.py:338: FutureWarning: The default of observed=False is deprecated and will be changed to True in a future version of pandas. Pass observed=False to retain current behavior or observed=True to adopt the future default and silence this warning.\n",
      "  .groupby([\"index\", \"Strand\"])\n",
      "join: Strand data from other will be added as strand data to self.\n",
      "If this is undesired use the flag apply_strand_suffix=False.\n",
      "To turn off the warning set apply_strand_suffix to True or False.\n",
      "/home/xf2217/Projects/get_model.worktrees/refactor_with_hydra/tutorials/preprocess_utils.py:338: FutureWarning: The default of observed=False is deprecated and will be changed to True in a future version of pandas. Pass observed=False to retain current behavior or observed=True to adopt the future default and silence this warning.\n",
      "  .groupby([\"index\", \"Strand\"])\n",
      "join: Strand data from other will be added as strand data to self.\n",
      "If this is undesired use the flag apply_strand_suffix=False.\n",
      "To turn off the warning set apply_strand_suffix to True or False.\n",
      "/home/xf2217/Projects/get_model.worktrees/refactor_with_hydra/tutorials/preprocess_utils.py:338: FutureWarning: The default of observed=False is deprecated and will be changed to True in a future version of pandas. Pass observed=False to retain current behavior or observed=True to adopt the future default and silence this warning.\n",
      "  .groupby([\"index\", \"Strand\"])\n",
      "join: Strand data from other will be added as strand data to self.\n",
      "If this is undesired use the flag apply_strand_suffix=False.\n",
      "To turn off the warning set apply_strand_suffix to True or False.\n",
      "/home/xf2217/Projects/get_model.worktrees/refactor_with_hydra/tutorials/preprocess_utils.py:338: FutureWarning: The default of observed=False is deprecated and will be changed to True in a future version of pandas. Pass observed=False to retain current behavior or observed=True to adopt the future default and silence this warning.\n",
      "  .groupby([\"index\", \"Strand\"])\n",
      "join: Strand data from other will be added as strand data to self.\n",
      "If this is undesired use the flag apply_strand_suffix=False.\n",
      "To turn off the warning set apply_strand_suffix to True or False.\n",
      "/home/xf2217/Projects/get_model.worktrees/refactor_with_hydra/tutorials/preprocess_utils.py:338: FutureWarning: The default of observed=False is deprecated and will be changed to True in a future version of pandas. Pass observed=False to retain current behavior or observed=True to adopt the future default and silence this warning.\n",
      "  .groupby([\"index\", \"Strand\"])\n",
      "join: Strand data from other will be added as strand data to self.\n",
      "If this is undesired use the flag apply_strand_suffix=False.\n",
      "To turn off the warning set apply_strand_suffix to True or False.\n",
      "/home/xf2217/Projects/get_model.worktrees/refactor_with_hydra/tutorials/preprocess_utils.py:338: FutureWarning: The default of observed=False is deprecated and will be changed to True in a future version of pandas. Pass observed=False to retain current behavior or observed=True to adopt the future default and silence this warning.\n",
      "  .groupby([\"index\", \"Strand\"])\n",
      "join: Strand data from other will be added as strand data to self.\n",
      "If this is undesired use the flag apply_strand_suffix=False.\n",
      "To turn off the warning set apply_strand_suffix to True or False.\n",
      "/home/xf2217/Projects/get_model.worktrees/refactor_with_hydra/tutorials/preprocess_utils.py:338: FutureWarning: The default of observed=False is deprecated and will be changed to True in a future version of pandas. Pass observed=False to retain current behavior or observed=True to adopt the future default and silence this warning.\n",
      "  .groupby([\"index\", \"Strand\"])\n",
      "join: Strand data from other will be added as strand data to self.\n",
      "If this is undesired use the flag apply_strand_suffix=False.\n",
      "To turn off the warning set apply_strand_suffix to True or False.\n",
      "/home/xf2217/Projects/get_model.worktrees/refactor_with_hydra/tutorials/preprocess_utils.py:338: FutureWarning: The default of observed=False is deprecated and will be changed to True in a future version of pandas. Pass observed=False to retain current behavior or observed=True to adopt the future default and silence this warning.\n",
      "  .groupby([\"index\", \"Strand\"])\n",
      "join: Strand data from other will be added as strand data to self.\n",
      "If this is undesired use the flag apply_strand_suffix=False.\n",
      "To turn off the warning set apply_strand_suffix to True or False.\n",
      "/home/xf2217/Projects/get_model.worktrees/refactor_with_hydra/tutorials/preprocess_utils.py:338: FutureWarning: The default of observed=False is deprecated and will be changed to True in a future version of pandas. Pass observed=False to retain current behavior or observed=True to adopt the future default and silence this warning.\n",
      "  .groupby([\"index\", \"Strand\"])\n",
      "join: Strand data from other will be added as strand data to self.\n",
      "If this is undesired use the flag apply_strand_suffix=False.\n",
      "To turn off the warning set apply_strand_suffix to True or False.\n",
      "/home/xf2217/Projects/get_model.worktrees/refactor_with_hydra/tutorials/preprocess_utils.py:338: FutureWarning: The default of observed=False is deprecated and will be changed to True in a future version of pandas. Pass observed=False to retain current behavior or observed=True to adopt the future default and silence this warning.\n",
      "  .groupby([\"index\", \"Strand\"])\n"
     ]
    }
   ],
   "source": [
    "for cell_type in celltype_for_modeling:\n",
    "    add_exp(\n",
    "        \"preprocess_recall_peak/pbmc10k_multiome.zarr\",\n",
    "        f\"preprocess_recall_peak/{cell_type}.rna.csv\",\n",
    "        f\"preprocess_recall_peak/{cell_type}.atac.bed\",\n",
    "        cell_type,\n",
    "        assembly=\"hg38\",\n",
    "        version=44,\n",
    "        extend_bp=300, # extend TSS region to 300bp upstream and downstream when overlapping with peaks\n",
    "    id_or_name=\"gene_name\", # use gene_name or gene_id to match the gene expression data, checkout your rna.csv file column names, should be either [gene_name, TPM] or [gene_id, TPM]\n",
    ")"
   ]
  },
  {
   "cell_type": "markdown",
   "metadata": {},
   "source": [
    "### Clean up intermediate files"
   ]
  },
  {
   "cell_type": "code",
   "execution_count": 63,
   "metadata": {},
   "outputs": [],
   "source": [
    "for file in [peaks_motif, get_motif_output]:\n",
    "    os.remove(file)"
   ]
  },
  {
   "cell_type": "markdown",
   "metadata": {},
   "source": [
    "This has conclude the data processing steps."
   ]
  }
 ],
 "metadata": {
  "kernelspec": {
   "display_name": "get-model",
   "language": "python",
   "name": "python3"
  },
  "language_info": {
   "codemirror_mode": {
    "name": "ipython",
    "version": 3
   },
   "file_extension": ".py",
   "mimetype": "text/x-python",
   "name": "python",
   "nbconvert_exporter": "python",
   "pygments_lexer": "ipython3",
   "version": "3.13.2"
  }
 },
 "nbformat": 4,
 "nbformat_minor": 2
}
